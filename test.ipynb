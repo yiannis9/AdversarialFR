{
 "metadata": {
  "language_info": {
   "codemirror_mode": {
    "name": "ipython",
    "version": 3
   },
   "file_extension": ".py",
   "mimetype": "text/x-python",
   "name": "python",
   "nbconvert_exporter": "python",
   "pygments_lexer": "ipython3",
   "version": "3.8.10"
  },
  "orig_nbformat": 2,
  "kernelspec": {
   "name": "pythonjvsc74a57bd05152878ccfa80b2aa2c339683f5c28e34a73d20567e7e9cb69acb74956c72351",
   "display_name": "Python 3.8.10  ('venv': venv)"
  },
  "metadata": {
   "interpreter": {
    "hash": "5152878ccfa80b2aa2c339683f5c28e34a73d20567e7e9cb69acb74956c72351"
   }
  }
 },
 "nbformat": 4,
 "nbformat_minor": 2,
 "cells": [
  {
   "source": [
    "# Msc Thesis\n",
    "\n",
    " ## > Building an FR model"
   ],
   "cell_type": "markdown",
   "metadata": {}
  },
  {
   "source": [
    "## LIBRARY IMPORTS"
   ],
   "cell_type": "markdown",
   "metadata": {}
  },
  {
   "cell_type": "code",
   "execution_count": 7,
   "metadata": {},
   "outputs": [],
   "source": [
    "import matplotlib.pyplot as plt\n",
    "import numpy as np\n",
    "import os\n",
    "import PIL\n",
    "import tensorflow as tf\n",
    "from tensorflow.keras import Sequential, Model\n",
    "from tensorflow.keras.layers import Conv2D, MaxPooling2D, LocallyConnected2D, Flatten, Dense, Dropout"
   ]
  },
  {
   "source": [
    "## DEFINE THE MODEL ARCHITECTURE"
   ],
   "cell_type": "markdown",
   "metadata": {}
  },
  {
   "cell_type": "code",
   "execution_count": 2,
   "metadata": {},
   "outputs": [],
   "source": [
    "def build_model():\n",
    "\tmodel = Sequential()\n",
    "\tmodel.add(Conv2D(32, (11, 11), activation='relu', name='C1', input_shape=(152, 152, 3)))\n",
    "\tmodel.add(MaxPooling2D(pool_size=3, strides=2, padding='same', name='M2'))\n",
    "\tmodel.add(Conv2D(16, (9, 9), activation='relu', name='C3'))\n",
    "\tmodel.add(LocallyConnected2D(16, (9, 9), activation='relu', name='L4'))\n",
    "\tmodel.add(LocallyConnected2D(16, (7, 7), strides=2, activation='relu', name='L5') )\n",
    "\tmodel.add(LocallyConnected2D(16, (5, 5), activation='relu', name='L6'))\n",
    "\tmodel.add(Flatten(name='F0'))\n",
    "\tmodel.add(Dense(4096, activation='relu', name='F7'))\n",
    "\tmodel.add(Dropout(rate=0.5, name='D0'))\n",
    "\tmodel.add(Dense(8631, activation='softmax', name='F8'))\n",
    "\t\n",
    "\treturn model"
   ]
  },
  {
   "source": [
    "## LOAD WEIGHTS FROM DEEPFACE VGGFACE2 PRETRAINED MODEL"
   ],
   "cell_type": "markdown",
   "metadata": {}
  },
  {
   "cell_type": "code",
   "execution_count": 4,
   "metadata": {},
   "outputs": [],
   "source": [
    "#Can be downloaded from https://github.com/swghosh/DeepFace/releases\n",
    "model = build_model()\n",
    "model.load_weights(r\"C:\\Users\\Keravnos\\Documents\\AdversarialFR\\VGGFace2_DeepFace_weights_val-0.9034.h5\")"
   ]
  },
  {
   "source": [
    "## REMOVE REPRESENTATION LAYER"
   ],
   "cell_type": "markdown",
   "metadata": {}
  },
  {
   "cell_type": "code",
   "execution_count": 9,
   "metadata": {},
   "outputs": [],
   "source": [
    "deepface_model = Model(inputs=model.layers[0].input, outputs=model.layers[-3].output)"
   ]
  },
  {
   "source": [
    "## COMPARE REPRESENTATIONS"
   ],
   "cell_type": "markdown",
   "metadata": {}
  },
  {
   "cell_type": "code",
   "execution_count": 10,
   "metadata": {},
   "outputs": [
    {
     "output_type": "error",
     "ename": "IndentationError",
     "evalue": "expected an indented block (<ipython-input-10-5b6432f8d67f>, line 2)",
     "traceback": [
      "\u001b[1;36m  File \u001b[1;32m\"<ipython-input-10-5b6432f8d67f>\"\u001b[1;36m, line \u001b[1;32m2\u001b[0m\n\u001b[1;33m    return x / np.sqrt(np.sum(np.multiply(x, x)))\u001b[0m\n\u001b[1;37m    ^\u001b[0m\n\u001b[1;31mIndentationError\u001b[0m\u001b[1;31m:\u001b[0m expected an indented block\n"
     ]
    }
   ],
   "source": [
    "def l2_normalize(x):\n",
    "    return x / np.sqrt(np.sum(np.multiply(x, x)))\n",
    " \n",
    "def findEuclideanDistance(source_representation, test_representation):\n",
    "    euclidean_distance = source_representation - test_representation\n",
    "    euclidean_distance = np.sum(np.multiply(euclidean_distance, euclidean_distance))\n",
    "    euclidean_distance = np.sqrt(euclidean_distance)\n",
    "    return euclidean_distance"
   ]
  },
  {
   "cell_type": "code",
   "execution_count": null,
   "metadata": {},
   "outputs": [],
   "source": []
  }
 ]
}