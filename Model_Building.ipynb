{
 "cells": [
  {
   "cell_type": "markdown",
   "metadata": {},
   "source": [
    "**SID**: 52095515\n",
    "\n",
    "**PG Student**: Ioannis Keravnos\n",
    "\n",
    "**Msc Thesis** - Sophisticated Adversarial Attacks on Facial Recogntion Systems and what the future holds."
   ]
  },
  {
   "cell_type": "markdown",
   "metadata": {},
   "source": [
    "# Building an FR model"
   ]
  },
  {
   "cell_type": "markdown",
   "metadata": {
    "tags": []
   },
   "source": [
    "## LIBRARY IMPORTS"
   ]
  },
  {
   "cell_type": "code",
   "execution_count": 1,
   "metadata": {
    "jupyter": {
     "source_hidden": true
    },
    "tags": []
   },
   "outputs": [],
   "source": [
    "import matplotlib.pyplot as plt\n",
    "import numpy as np\n",
    "import os\n",
    "from PIL import Image\n",
    "import random\n",
    "from IPython.display import display # to display images\n",
    "\n",
    "import tensorflow as tf\n",
    "import tensorflow_datasets as tfds\n",
    "from tensorflow import keras\n",
    "from tensorflow.keras import layers\n",
    "from tensorflow.keras.models import Sequential\n",
    "\n",
    "from mtcnn.mtcnn import MTCNN\n",
    "import cv2\n",
    "from tqdm.notebook import tqdm"
   ]
  },
  {
   "cell_type": "markdown",
   "metadata": {
    "tags": []
   },
   "source": [
    "## LOAD DATASET AND PREPROCESS"
   ]
  },
  {
   "cell_type": "markdown",
   "metadata": {
    "tags": []
   },
   "source": [
    "A few preprocessing steps are required to make the dataset ready for training\n",
    "\n",
    "- Extrace faces\n",
    "- Replace images with the extracted faces (This is common and much more efficient than including the whole image, since it can include many unimportant features)\n",
    "- Rescale the images to a smaller size (also a matter of efficiency. It is handled by the face extraction function formulated below)\n",
    "- Saving the train and test sets after preprocessing as numpy objects to enable easy reproduction of experiments in the future by just loading the numpy object.\n",
    "- Clean dataset of any non-recognized faces since it will return None\n",
    "- Encode class labels to one hot arrays for the classifier to use multiclass classification with catergorical entropy\n",
    "- Cast to tf dataset to be able to perform the specified preprocessing\n",
    "- Split the dataset into train and test arrays\n",
    "- Creating batch organised datasets\n"
   ]
  },
  {
   "cell_type": "markdown",
   "metadata": {},
   "source": [
    "### Face Extraction"
   ]
  },
  {
   "cell_type": "code",
   "execution_count": 2,
   "metadata": {
    "jupyter": {
     "source_hidden": true
    },
    "tags": []
   },
   "outputs": [],
   "source": [
    "# can detect multiple faces but for our tasks we assume just one face images only\n",
    "def extract_faces_from_img(imagePath, required_size=(160, 160), is_path=True):\n",
    "    if is_path:\n",
    "        image = Image.open(imagePath)\n",
    "    else:\n",
    "        image = imagePath\n",
    "    image = np.asarray(image)\n",
    "    gray = cv2.cvtColor(image, cv2.COLOR_BGR2GRAY)\n",
    "    faceCascade = cv2.CascadeClassifier(cv2.data.haarcascades + \"haarcascade_frontalface_default.xml\")\n",
    "    faces = faceCascade.detectMultiScale(\n",
    "                                        gray,\n",
    "                                        scaleFactor=1.3,\n",
    "                                        minNeighbors=3,\n",
    "                                        minSize=(30, 30)\n",
    "                                        )\n",
    "    if len(faces) != 0:\n",
    "        for (x, y, w, h) in faces:\n",
    "            cv2.rectangle(image, (x, y), (x + w, y + h), (0, 255, 0), 2)\n",
    "            roi_color = image[y:y + h, x:x + w]\n",
    "        # resize pixels to the model size\n",
    "        image = Image.fromarray(roi_color)\n",
    "        image = image.resize(required_size)\n",
    "        face_array = np.asarray(image)\n",
    "    else:\n",
    "        # if face is not detected we need to return None\n",
    "        face_array = None\n",
    "    return face_array"
   ]
  },
  {
   "cell_type": "markdown",
   "metadata": {},
   "source": [
    "### Custom 6-person dataset for a classiffier"
   ]
  },
  {
   "cell_type": "code",
   "execution_count": 3,
   "metadata": {
    "jupyter": {
     "source_hidden": true
    },
    "tags": []
   },
   "outputs": [],
   "source": [
    "samples = {\n",
    "            'n000810':'Ashley Olsen',\n",
    "            'n002038':'David Hasselhoff',\n",
    "            'n000419':'Amy Adams',\n",
    "            'n000709':'Antonio Banderas',\n",
    "            'n007619':'Russell Brand',\n",
    "            'n002141':'Denzel Washington'\n",
    "}\n",
    "\n",
    "train_ds_path = r'C:\\Users\\Keravnos\\Documents\\VGG-Face2\\data\\vggface2_train.tar\\train'\n",
    "\n",
    "def prepare_dataset(samples, train_data_path):\n",
    "    ds = []\n",
    "    # list out dict keys\n",
    "    key_list = list(samples.keys())\n",
    "    #iterate over our 6 identity directories\n",
    "    for k in tqdm(key_list,'Identities'):\n",
    "        # use this as label\n",
    "        label = samples[k]\n",
    "        #directory path of images for each identity\n",
    "        dir_path = os.path.join(train_data_path,k)\n",
    "        print('Extracting images for', label)\n",
    "        # iterate over image directory and extract faces\n",
    "        for img in tqdm(os.listdir(dir_path),'Images'):\n",
    "            # need the image path for the face extraction method\n",
    "            img_path = os.path.join(dir_path,img)\n",
    "            # create a face array variable where the extracted face is constructed by the function.\n",
    "            face_array = extract_faces_from_img(img_path)\n",
    "            # add both image and label in dataset\n",
    "            ds.append((face_array,label))\n",
    "    print('DATASET COMPILED!')\n",
    "    return ds"
   ]
  },
  {
   "cell_type": "code",
   "execution_count": 32,
   "metadata": {
    "jupyter": {
     "source_hidden": true
    },
    "tags": []
   },
   "outputs": [
    {
     "data": {
      "application/vnd.jupyter.widget-view+json": {
       "model_id": "4c50250c8b8c4dbfb8ec7c189c3bb612",
       "version_major": 2,
       "version_minor": 0
      },
      "text/plain": [
       "Identities:   0%|          | 0/6 [00:00<?, ?it/s]"
      ]
     },
     "metadata": {},
     "output_type": "display_data"
    },
    {
     "name": "stdout",
     "output_type": "stream",
     "text": [
      "Extracting images for Ashley Olsen\n"
     ]
    },
    {
     "data": {
      "application/vnd.jupyter.widget-view+json": {
       "model_id": "01ebf0b440794c0b97337d8e44334d93",
       "version_major": 2,
       "version_minor": 0
      },
      "text/plain": [
       "Images:   0%|          | 0/843 [00:00<?, ?it/s]"
      ]
     },
     "metadata": {},
     "output_type": "display_data"
    },
    {
     "name": "stdout",
     "output_type": "stream",
     "text": [
      "Extracting images for David Hasselhoff\n"
     ]
    },
    {
     "data": {
      "application/vnd.jupyter.widget-view+json": {
       "model_id": "5c3392531d4c49c4a48a5919d0256fbc",
       "version_major": 2,
       "version_minor": 0
      },
      "text/plain": [
       "Images:   0%|          | 0/542 [00:00<?, ?it/s]"
      ]
     },
     "metadata": {},
     "output_type": "display_data"
    },
    {
     "name": "stdout",
     "output_type": "stream",
     "text": [
      "Extracting images for Amy Adams\n"
     ]
    },
    {
     "data": {
      "application/vnd.jupyter.widget-view+json": {
       "model_id": "4fbb94abf6d64488b5dbdb38216bd232",
       "version_major": 2,
       "version_minor": 0
      },
      "text/plain": [
       "Images:   0%|          | 0/689 [00:00<?, ?it/s]"
      ]
     },
     "metadata": {},
     "output_type": "display_data"
    },
    {
     "name": "stdout",
     "output_type": "stream",
     "text": [
      "Extracting images for Antonio Banderas\n"
     ]
    },
    {
     "data": {
      "application/vnd.jupyter.widget-view+json": {
       "model_id": "79bdc43c92a9409a9f0f7221a241f741",
       "version_major": 2,
       "version_minor": 0
      },
      "text/plain": [
       "Images:   0%|          | 0/451 [00:00<?, ?it/s]"
      ]
     },
     "metadata": {},
     "output_type": "display_data"
    },
    {
     "name": "stdout",
     "output_type": "stream",
     "text": [
      "Extracting images for Russell Brand\n"
     ]
    },
    {
     "data": {
      "application/vnd.jupyter.widget-view+json": {
       "model_id": "42f4fa0754fd43d5b36c5236cd02104f",
       "version_major": 2,
       "version_minor": 0
      },
      "text/plain": [
       "Images:   0%|          | 0/640 [00:00<?, ?it/s]"
      ]
     },
     "metadata": {},
     "output_type": "display_data"
    },
    {
     "name": "stdout",
     "output_type": "stream",
     "text": [
      "Extracting images for Denzel Washington\n"
     ]
    },
    {
     "data": {
      "application/vnd.jupyter.widget-view+json": {
       "model_id": "c408d522227a4d2ba724fa8542d988a6",
       "version_major": 2,
       "version_minor": 0
      },
      "text/plain": [
       "Images:   0%|          | 0/545 [00:00<?, ?it/s]"
      ]
     },
     "metadata": {},
     "output_type": "display_data"
    },
    {
     "name": "stdout",
     "output_type": "stream",
     "text": [
      "DATASET COMPILED!\n"
     ]
    },
    {
     "data": {
      "text/plain": [
       "(3710, 2)"
      ]
     },
     "execution_count": 32,
     "metadata": {},
     "output_type": "execute_result"
    }
   ],
   "source": [
    "ds = prepare_dataset(samples,train_ds_path)\n",
    "ds = np.asarray(ds, dtype=object)\n",
    "ds.shape"
   ]
  },
  {
   "cell_type": "markdown",
   "metadata": {},
   "source": [
    "### Clean all non recognised images from dataset.\n",
    "\n",
    "Sometimes while extracting faces, there is a chance that a face will not be recognized, which will in turn yield a **None** object. This is something that we must clean from the dataset as it will create all sorts of errors on the way. Notice that while we search for **None** in images, we **must** still delete its corresponding label, hence the whole row for that specific data entry."
   ]
  },
  {
   "cell_type": "code",
   "execution_count": 33,
   "metadata": {
    "jupyter": {
     "source_hidden": true
    },
    "tags": []
   },
   "outputs": [
    {
     "data": {
      "text/plain": [
       "(3068, 2)"
      ]
     },
     "execution_count": 33,
     "metadata": {},
     "output_type": "execute_result"
    }
   ],
   "source": [
    "ds = [(image,label) for (image,label) in ds if image.__class__.__name__ != 'NoneType' ]\n",
    "ds = np.asarray(ds, dtype=object)\n",
    "ds.shape"
   ]
  },
  {
   "cell_type": "code",
   "execution_count": 34,
   "metadata": {
    "jupyter": {
     "source_hidden": true
    },
    "tags": []
   },
   "outputs": [],
   "source": [
    "images = [image for image,label in ds]\n",
    "labels = [label for image,label in ds]"
   ]
  },
  {
   "cell_type": "markdown",
   "metadata": {
    "tags": []
   },
   "source": [
    "### ******CHECKPOINT: Save and load numpy files to cut through the previous steps\n",
    "- Remember to also load prerequisite libraries and functions though."
   ]
  },
  {
   "cell_type": "markdown",
   "metadata": {},
   "source": [
    "Save the images and labels"
   ]
  },
  {
   "cell_type": "code",
   "execution_count": 35,
   "metadata": {
    "jupyter": {
     "source_hidden": true
    },
    "tags": []
   },
   "outputs": [],
   "source": [
    "np.save('images.npy', images)\n",
    "np.save('labels.npy', labels)"
   ]
  },
  {
   "cell_type": "markdown",
   "metadata": {},
   "source": [
    "Or load them"
   ]
  },
  {
   "cell_type": "code",
   "execution_count": 349,
   "metadata": {
    "jupyter": {
     "source_hidden": true
    },
    "tags": []
   },
   "outputs": [
    {
     "data": {
      "text/plain": [
       "(3068, 160, 160, 3)"
      ]
     },
     "execution_count": 349,
     "metadata": {},
     "output_type": "execute_result"
    }
   ],
   "source": [
    "images = np.load('images.npy')\n",
    "labels = np.load('labels.npy')\n",
    "images.shape"
   ]
  },
  {
   "cell_type": "markdown",
   "metadata": {
    "tags": []
   },
   "source": [
    "### Create one hot arrays for the class labels\n",
    "\n",
    "This is required since we are attempting to build a multi-class classifier. The following will encode string labels to numerical labels first using scikit-learn. Then we use tensorflows to_categorical utility function to convert the now numerical labelled data to one hot arrays."
   ]
  },
  {
   "cell_type": "markdown",
   "metadata": {},
   "source": [
    "Run the cell below only if you didn't load the dataset from the npy file already."
   ]
  },
  {
   "cell_type": "code",
   "execution_count": 350,
   "metadata": {
    "jupyter": {
     "source_hidden": true
    },
    "tags": []
   },
   "outputs": [],
   "source": [
    "from sklearn.preprocessing import LabelEncoder\n",
    "\n",
    "# encode class values as integers\n",
    "encoder = LabelEncoder()\n",
    "encoder.fit(labels)\n",
    "encoded_Y = encoder.transform(labels)\n",
    "# convert integers to dummy variables (i.e. one hot encoded)\n",
    "dummy_y = tf.keras.utils.to_categorical(encoded_Y)"
   ]
  },
  {
   "cell_type": "markdown",
   "metadata": {},
   "source": [
    "### Splitting the dataset\n",
    "\n",
    "It is required to split the dataset since we will be using a train and test set. To be exact we will be using the test set as a validation test, yet we will also use it to evaluate the model. This unconventional but it stems from the fact that classiffiers are built on much larger datasets, yet our images are scarse. This is one of the reasons we use transfer learning later on."
   ]
  },
  {
   "cell_type": "code",
   "execution_count": 351,
   "metadata": {
    "jupyter": {
     "source_hidden": true
    },
    "tags": []
   },
   "outputs": [],
   "source": [
    "from sklearn.model_selection import train_test_split\n",
    "X_train, X_test, y_train, y_test = train_test_split(images, dummy_y, test_size=0.3, random_state=42)"
   ]
  },
  {
   "cell_type": "markdown",
   "metadata": {},
   "source": [
    "*** *****CHECKPOINT***** ***"
   ]
  },
  {
   "cell_type": "code",
   "execution_count": 381,
   "metadata": {},
   "outputs": [],
   "source": [
    "np.save('X_train.npy', X_train)\n",
    "np.save('X_test.npy', X_test)\n",
    "np.save('y_train.npy', y_train)\n",
    "np.save('y_test.npy', y_test)"
   ]
  },
  {
   "cell_type": "code",
   "execution_count": 382,
   "metadata": {},
   "outputs": [],
   "source": [
    "X_train = np.load('X_train.npy')\n",
    "X_test = np.load('X_test.npy')\n",
    "y_train = np.load('y_train.npy')\n",
    "y_test = np.load('y_test.npy')"
   ]
  },
  {
   "cell_type": "markdown",
   "metadata": {},
   "source": [
    "### Preprocess datasets for Xception model and prepare batches\n",
    "\n",
    "Here we do the following:\n",
    "\n",
    "- Cast the split datasets to tensorflow Datasets to perform the rest of the preprocessing\n",
    "- Shuffle the datasets\n",
    "- Call the custom preprocess function to iteratively preprocess each data entry using the .map method of the Dataset class\n",
    "- We finally prepare batches in sizes of 32 and prefetch it to increase speed"
   ]
  },
  {
   "cell_type": "code",
   "execution_count": 383,
   "metadata": {
    "tags": []
   },
   "outputs": [],
   "source": [
    "train_dataset = tf.data.Dataset.from_tensor_slices((X_train,y_train))\n",
    "test_dataset = tf.data.Dataset.from_tensor_slices((X_test,y_test))"
   ]
  },
  {
   "cell_type": "code",
   "execution_count": 384,
   "metadata": {
    "tags": []
   },
   "outputs": [],
   "source": [
    "def preprocess(image,label):\n",
    "    image = tf.cast(image, tf.float32)/ 255.0\n",
    "    final_image = tf.keras.applications.xception.preprocess_input(image)\n",
    "    return final_image,label\n",
    "\n",
    "batch_size = 32\n",
    "train_dataset = train_dataset.shuffle(len(train_dataset)*2)\n",
    "train_dataset = train_dataset.map(preprocess).batch(batch_size).prefetch(1)\n",
    "\n",
    "test_dataset = test_dataset.shuffle(len(test_dataset)*2)\n",
    "test_dataset = test_dataset.map(preprocess).batch(batch_size).prefetch(1)"
   ]
  },
  {
   "cell_type": "markdown",
   "metadata": {
    "tags": []
   },
   "source": [
    "## BUILDING THE MODEL"
   ]
  },
  {
   "cell_type": "markdown",
   "metadata": {},
   "source": [
    "Use Transfer Learning to build on top of an Xception model architecture for image classification."
   ]
  },
  {
   "cell_type": "markdown",
   "metadata": {},
   "source": [
    "### Use Xception architecture and weights"
   ]
  },
  {
   "cell_type": "markdown",
   "metadata": {
    "tags": []
   },
   "source": [
    "- We use Xception model architecture without its top layer.\n",
    "- Add layers on top of the Xception model to form a classifier. The number of neurons must match the number of class labels. Use softmax since this is categorical classification \n",
    "- The Xception layers must be frozen so that the weights do not change in the first training run"
   ]
  },
  {
   "cell_type": "code",
   "execution_count": 294,
   "metadata": {
    "collapsed": true,
    "jupyter": {
     "outputs_hidden": true,
     "source_hidden": true
    },
    "tags": []
   },
   "outputs": [
    {
     "name": "stdout",
     "output_type": "stream",
     "text": [
      "Model: \"model_54\"\n",
      "__________________________________________________________________________________________________\n",
      "Layer (type)                    Output Shape         Param #     Connected to                     \n",
      "==================================================================================================\n",
      "input_2 (InputLayer)            [(None, 160, 160, 3) 0                                            \n",
      "__________________________________________________________________________________________________\n",
      "block1_conv1 (Conv2D)           (None, 79, 79, 32)   864         input_2[0][0]                    \n",
      "__________________________________________________________________________________________________\n",
      "block1_conv1_bn (BatchNormaliza (None, 79, 79, 32)   128         block1_conv1[0][0]               \n",
      "__________________________________________________________________________________________________\n",
      "block1_conv1_act (Activation)   (None, 79, 79, 32)   0           block1_conv1_bn[0][0]            \n",
      "__________________________________________________________________________________________________\n",
      "block1_conv2 (Conv2D)           (None, 77, 77, 64)   18432       block1_conv1_act[0][0]           \n",
      "__________________________________________________________________________________________________\n",
      "block1_conv2_bn (BatchNormaliza (None, 77, 77, 64)   256         block1_conv2[0][0]               \n",
      "__________________________________________________________________________________________________\n",
      "block1_conv2_act (Activation)   (None, 77, 77, 64)   0           block1_conv2_bn[0][0]            \n",
      "__________________________________________________________________________________________________\n",
      "block2_sepconv1 (SeparableConv2 (None, 77, 77, 128)  8768        block1_conv2_act[0][0]           \n",
      "__________________________________________________________________________________________________\n",
      "block2_sepconv1_bn (BatchNormal (None, 77, 77, 128)  512         block2_sepconv1[0][0]            \n",
      "__________________________________________________________________________________________________\n",
      "block2_sepconv2_act (Activation (None, 77, 77, 128)  0           block2_sepconv1_bn[0][0]         \n",
      "__________________________________________________________________________________________________\n",
      "block2_sepconv2 (SeparableConv2 (None, 77, 77, 128)  17536       block2_sepconv2_act[0][0]        \n",
      "__________________________________________________________________________________________________\n",
      "block2_sepconv2_bn (BatchNormal (None, 77, 77, 128)  512         block2_sepconv2[0][0]            \n",
      "__________________________________________________________________________________________________\n",
      "conv2d_4 (Conv2D)               (None, 39, 39, 128)  8192        block1_conv2_act[0][0]           \n",
      "__________________________________________________________________________________________________\n",
      "block2_pool (MaxPooling2D)      (None, 39, 39, 128)  0           block2_sepconv2_bn[0][0]         \n",
      "__________________________________________________________________________________________________\n",
      "batch_normalization_4 (BatchNor (None, 39, 39, 128)  512         conv2d_4[0][0]                   \n",
      "__________________________________________________________________________________________________\n",
      "add_12 (Add)                    (None, 39, 39, 128)  0           block2_pool[0][0]                \n",
      "                                                                 batch_normalization_4[0][0]      \n",
      "__________________________________________________________________________________________________\n",
      "block3_sepconv1_act (Activation (None, 39, 39, 128)  0           add_12[0][0]                     \n",
      "__________________________________________________________________________________________________\n",
      "block3_sepconv1 (SeparableConv2 (None, 39, 39, 256)  33920       block3_sepconv1_act[0][0]        \n",
      "__________________________________________________________________________________________________\n",
      "block3_sepconv1_bn (BatchNormal (None, 39, 39, 256)  1024        block3_sepconv1[0][0]            \n",
      "__________________________________________________________________________________________________\n",
      "block3_sepconv2_act (Activation (None, 39, 39, 256)  0           block3_sepconv1_bn[0][0]         \n",
      "__________________________________________________________________________________________________\n",
      "block3_sepconv2 (SeparableConv2 (None, 39, 39, 256)  67840       block3_sepconv2_act[0][0]        \n",
      "__________________________________________________________________________________________________\n",
      "block3_sepconv2_bn (BatchNormal (None, 39, 39, 256)  1024        block3_sepconv2[0][0]            \n",
      "__________________________________________________________________________________________________\n",
      "conv2d_5 (Conv2D)               (None, 20, 20, 256)  32768       add_12[0][0]                     \n",
      "__________________________________________________________________________________________________\n",
      "block3_pool (MaxPooling2D)      (None, 20, 20, 256)  0           block3_sepconv2_bn[0][0]         \n",
      "__________________________________________________________________________________________________\n",
      "batch_normalization_5 (BatchNor (None, 20, 20, 256)  1024        conv2d_5[0][0]                   \n",
      "__________________________________________________________________________________________________\n",
      "add_13 (Add)                    (None, 20, 20, 256)  0           block3_pool[0][0]                \n",
      "                                                                 batch_normalization_5[0][0]      \n",
      "__________________________________________________________________________________________________\n",
      "block4_sepconv1_act (Activation (None, 20, 20, 256)  0           add_13[0][0]                     \n",
      "__________________________________________________________________________________________________\n",
      "block4_sepconv1 (SeparableConv2 (None, 20, 20, 728)  188672      block4_sepconv1_act[0][0]        \n",
      "__________________________________________________________________________________________________\n",
      "block4_sepconv1_bn (BatchNormal (None, 20, 20, 728)  2912        block4_sepconv1[0][0]            \n",
      "__________________________________________________________________________________________________\n",
      "block4_sepconv2_act (Activation (None, 20, 20, 728)  0           block4_sepconv1_bn[0][0]         \n",
      "__________________________________________________________________________________________________\n",
      "block4_sepconv2 (SeparableConv2 (None, 20, 20, 728)  536536      block4_sepconv2_act[0][0]        \n",
      "__________________________________________________________________________________________________\n",
      "block4_sepconv2_bn (BatchNormal (None, 20, 20, 728)  2912        block4_sepconv2[0][0]            \n",
      "__________________________________________________________________________________________________\n",
      "conv2d_6 (Conv2D)               (None, 10, 10, 728)  186368      add_13[0][0]                     \n",
      "__________________________________________________________________________________________________\n",
      "block4_pool (MaxPooling2D)      (None, 10, 10, 728)  0           block4_sepconv2_bn[0][0]         \n",
      "__________________________________________________________________________________________________\n",
      "batch_normalization_6 (BatchNor (None, 10, 10, 728)  2912        conv2d_6[0][0]                   \n",
      "__________________________________________________________________________________________________\n",
      "add_14 (Add)                    (None, 10, 10, 728)  0           block4_pool[0][0]                \n",
      "                                                                 batch_normalization_6[0][0]      \n",
      "__________________________________________________________________________________________________\n",
      "block5_sepconv1_act (Activation (None, 10, 10, 728)  0           add_14[0][0]                     \n",
      "__________________________________________________________________________________________________\n",
      "block5_sepconv1 (SeparableConv2 (None, 10, 10, 728)  536536      block5_sepconv1_act[0][0]        \n",
      "__________________________________________________________________________________________________\n",
      "block5_sepconv1_bn (BatchNormal (None, 10, 10, 728)  2912        block5_sepconv1[0][0]            \n",
      "__________________________________________________________________________________________________\n",
      "block5_sepconv2_act (Activation (None, 10, 10, 728)  0           block5_sepconv1_bn[0][0]         \n",
      "__________________________________________________________________________________________________\n",
      "block5_sepconv2 (SeparableConv2 (None, 10, 10, 728)  536536      block5_sepconv2_act[0][0]        \n",
      "__________________________________________________________________________________________________\n",
      "block5_sepconv2_bn (BatchNormal (None, 10, 10, 728)  2912        block5_sepconv2[0][0]            \n",
      "__________________________________________________________________________________________________\n",
      "block5_sepconv3_act (Activation (None, 10, 10, 728)  0           block5_sepconv2_bn[0][0]         \n",
      "__________________________________________________________________________________________________\n",
      "block5_sepconv3 (SeparableConv2 (None, 10, 10, 728)  536536      block5_sepconv3_act[0][0]        \n",
      "__________________________________________________________________________________________________\n",
      "block5_sepconv3_bn (BatchNormal (None, 10, 10, 728)  2912        block5_sepconv3[0][0]            \n",
      "__________________________________________________________________________________________________\n",
      "add_15 (Add)                    (None, 10, 10, 728)  0           block5_sepconv3_bn[0][0]         \n",
      "                                                                 add_14[0][0]                     \n",
      "__________________________________________________________________________________________________\n",
      "block6_sepconv1_act (Activation (None, 10, 10, 728)  0           add_15[0][0]                     \n",
      "__________________________________________________________________________________________________\n",
      "block6_sepconv1 (SeparableConv2 (None, 10, 10, 728)  536536      block6_sepconv1_act[0][0]        \n",
      "__________________________________________________________________________________________________\n",
      "block6_sepconv1_bn (BatchNormal (None, 10, 10, 728)  2912        block6_sepconv1[0][0]            \n",
      "__________________________________________________________________________________________________\n",
      "block6_sepconv2_act (Activation (None, 10, 10, 728)  0           block6_sepconv1_bn[0][0]         \n",
      "__________________________________________________________________________________________________\n",
      "block6_sepconv2 (SeparableConv2 (None, 10, 10, 728)  536536      block6_sepconv2_act[0][0]        \n",
      "__________________________________________________________________________________________________\n",
      "block6_sepconv2_bn (BatchNormal (None, 10, 10, 728)  2912        block6_sepconv2[0][0]            \n",
      "__________________________________________________________________________________________________\n",
      "block6_sepconv3_act (Activation (None, 10, 10, 728)  0           block6_sepconv2_bn[0][0]         \n",
      "__________________________________________________________________________________________________\n",
      "block6_sepconv3 (SeparableConv2 (None, 10, 10, 728)  536536      block6_sepconv3_act[0][0]        \n",
      "__________________________________________________________________________________________________\n",
      "block6_sepconv3_bn (BatchNormal (None, 10, 10, 728)  2912        block6_sepconv3[0][0]            \n",
      "__________________________________________________________________________________________________\n",
      "add_16 (Add)                    (None, 10, 10, 728)  0           block6_sepconv3_bn[0][0]         \n",
      "                                                                 add_15[0][0]                     \n",
      "__________________________________________________________________________________________________\n",
      "block7_sepconv1_act (Activation (None, 10, 10, 728)  0           add_16[0][0]                     \n",
      "__________________________________________________________________________________________________\n",
      "block7_sepconv1 (SeparableConv2 (None, 10, 10, 728)  536536      block7_sepconv1_act[0][0]        \n",
      "__________________________________________________________________________________________________\n",
      "block7_sepconv1_bn (BatchNormal (None, 10, 10, 728)  2912        block7_sepconv1[0][0]            \n",
      "__________________________________________________________________________________________________\n",
      "block7_sepconv2_act (Activation (None, 10, 10, 728)  0           block7_sepconv1_bn[0][0]         \n",
      "__________________________________________________________________________________________________\n",
      "block7_sepconv2 (SeparableConv2 (None, 10, 10, 728)  536536      block7_sepconv2_act[0][0]        \n",
      "__________________________________________________________________________________________________\n",
      "block7_sepconv2_bn (BatchNormal (None, 10, 10, 728)  2912        block7_sepconv2[0][0]            \n",
      "__________________________________________________________________________________________________\n",
      "block7_sepconv3_act (Activation (None, 10, 10, 728)  0           block7_sepconv2_bn[0][0]         \n",
      "__________________________________________________________________________________________________\n",
      "block7_sepconv3 (SeparableConv2 (None, 10, 10, 728)  536536      block7_sepconv3_act[0][0]        \n",
      "__________________________________________________________________________________________________\n",
      "block7_sepconv3_bn (BatchNormal (None, 10, 10, 728)  2912        block7_sepconv3[0][0]            \n",
      "__________________________________________________________________________________________________\n",
      "add_17 (Add)                    (None, 10, 10, 728)  0           block7_sepconv3_bn[0][0]         \n",
      "                                                                 add_16[0][0]                     \n",
      "__________________________________________________________________________________________________\n",
      "block8_sepconv1_act (Activation (None, 10, 10, 728)  0           add_17[0][0]                     \n",
      "__________________________________________________________________________________________________\n",
      "block8_sepconv1 (SeparableConv2 (None, 10, 10, 728)  536536      block8_sepconv1_act[0][0]        \n",
      "__________________________________________________________________________________________________\n",
      "block8_sepconv1_bn (BatchNormal (None, 10, 10, 728)  2912        block8_sepconv1[0][0]            \n",
      "__________________________________________________________________________________________________\n",
      "block8_sepconv2_act (Activation (None, 10, 10, 728)  0           block8_sepconv1_bn[0][0]         \n",
      "__________________________________________________________________________________________________\n",
      "block8_sepconv2 (SeparableConv2 (None, 10, 10, 728)  536536      block8_sepconv2_act[0][0]        \n",
      "__________________________________________________________________________________________________\n",
      "block8_sepconv2_bn (BatchNormal (None, 10, 10, 728)  2912        block8_sepconv2[0][0]            \n",
      "__________________________________________________________________________________________________\n",
      "block8_sepconv3_act (Activation (None, 10, 10, 728)  0           block8_sepconv2_bn[0][0]         \n",
      "__________________________________________________________________________________________________\n",
      "block8_sepconv3 (SeparableConv2 (None, 10, 10, 728)  536536      block8_sepconv3_act[0][0]        \n",
      "__________________________________________________________________________________________________\n",
      "block8_sepconv3_bn (BatchNormal (None, 10, 10, 728)  2912        block8_sepconv3[0][0]            \n",
      "__________________________________________________________________________________________________\n",
      "add_18 (Add)                    (None, 10, 10, 728)  0           block8_sepconv3_bn[0][0]         \n",
      "                                                                 add_17[0][0]                     \n",
      "__________________________________________________________________________________________________\n",
      "block9_sepconv1_act (Activation (None, 10, 10, 728)  0           add_18[0][0]                     \n",
      "__________________________________________________________________________________________________\n",
      "block9_sepconv1 (SeparableConv2 (None, 10, 10, 728)  536536      block9_sepconv1_act[0][0]        \n",
      "__________________________________________________________________________________________________\n",
      "block9_sepconv1_bn (BatchNormal (None, 10, 10, 728)  2912        block9_sepconv1[0][0]            \n",
      "__________________________________________________________________________________________________\n",
      "block9_sepconv2_act (Activation (None, 10, 10, 728)  0           block9_sepconv1_bn[0][0]         \n",
      "__________________________________________________________________________________________________\n",
      "block9_sepconv2 (SeparableConv2 (None, 10, 10, 728)  536536      block9_sepconv2_act[0][0]        \n",
      "__________________________________________________________________________________________________\n",
      "block9_sepconv2_bn (BatchNormal (None, 10, 10, 728)  2912        block9_sepconv2[0][0]            \n",
      "__________________________________________________________________________________________________\n",
      "block9_sepconv3_act (Activation (None, 10, 10, 728)  0           block9_sepconv2_bn[0][0]         \n",
      "__________________________________________________________________________________________________\n",
      "block9_sepconv3 (SeparableConv2 (None, 10, 10, 728)  536536      block9_sepconv3_act[0][0]        \n",
      "__________________________________________________________________________________________________\n",
      "block9_sepconv3_bn (BatchNormal (None, 10, 10, 728)  2912        block9_sepconv3[0][0]            \n",
      "__________________________________________________________________________________________________\n",
      "add_19 (Add)                    (None, 10, 10, 728)  0           block9_sepconv3_bn[0][0]         \n",
      "                                                                 add_18[0][0]                     \n",
      "__________________________________________________________________________________________________\n",
      "block10_sepconv1_act (Activatio (None, 10, 10, 728)  0           add_19[0][0]                     \n",
      "__________________________________________________________________________________________________\n",
      "block10_sepconv1 (SeparableConv (None, 10, 10, 728)  536536      block10_sepconv1_act[0][0]       \n",
      "__________________________________________________________________________________________________\n",
      "block10_sepconv1_bn (BatchNorma (None, 10, 10, 728)  2912        block10_sepconv1[0][0]           \n",
      "__________________________________________________________________________________________________\n",
      "block10_sepconv2_act (Activatio (None, 10, 10, 728)  0           block10_sepconv1_bn[0][0]        \n",
      "__________________________________________________________________________________________________\n",
      "block10_sepconv2 (SeparableConv (None, 10, 10, 728)  536536      block10_sepconv2_act[0][0]       \n",
      "__________________________________________________________________________________________________\n",
      "block10_sepconv2_bn (BatchNorma (None, 10, 10, 728)  2912        block10_sepconv2[0][0]           \n",
      "__________________________________________________________________________________________________\n",
      "block10_sepconv3_act (Activatio (None, 10, 10, 728)  0           block10_sepconv2_bn[0][0]        \n",
      "__________________________________________________________________________________________________\n",
      "block10_sepconv3 (SeparableConv (None, 10, 10, 728)  536536      block10_sepconv3_act[0][0]       \n",
      "__________________________________________________________________________________________________\n",
      "block10_sepconv3_bn (BatchNorma (None, 10, 10, 728)  2912        block10_sepconv3[0][0]           \n",
      "__________________________________________________________________________________________________\n",
      "add_20 (Add)                    (None, 10, 10, 728)  0           block10_sepconv3_bn[0][0]        \n",
      "                                                                 add_19[0][0]                     \n",
      "__________________________________________________________________________________________________\n",
      "block11_sepconv1_act (Activatio (None, 10, 10, 728)  0           add_20[0][0]                     \n",
      "__________________________________________________________________________________________________\n",
      "block11_sepconv1 (SeparableConv (None, 10, 10, 728)  536536      block11_sepconv1_act[0][0]       \n",
      "__________________________________________________________________________________________________\n",
      "block11_sepconv1_bn (BatchNorma (None, 10, 10, 728)  2912        block11_sepconv1[0][0]           \n",
      "__________________________________________________________________________________________________\n",
      "block11_sepconv2_act (Activatio (None, 10, 10, 728)  0           block11_sepconv1_bn[0][0]        \n",
      "__________________________________________________________________________________________________\n",
      "block11_sepconv2 (SeparableConv (None, 10, 10, 728)  536536      block11_sepconv2_act[0][0]       \n",
      "__________________________________________________________________________________________________\n",
      "block11_sepconv2_bn (BatchNorma (None, 10, 10, 728)  2912        block11_sepconv2[0][0]           \n",
      "__________________________________________________________________________________________________\n",
      "block11_sepconv3_act (Activatio (None, 10, 10, 728)  0           block11_sepconv2_bn[0][0]        \n",
      "__________________________________________________________________________________________________\n",
      "block11_sepconv3 (SeparableConv (None, 10, 10, 728)  536536      block11_sepconv3_act[0][0]       \n",
      "__________________________________________________________________________________________________\n",
      "block11_sepconv3_bn (BatchNorma (None, 10, 10, 728)  2912        block11_sepconv3[0][0]           \n",
      "__________________________________________________________________________________________________\n",
      "add_21 (Add)                    (None, 10, 10, 728)  0           block11_sepconv3_bn[0][0]        \n",
      "                                                                 add_20[0][0]                     \n",
      "__________________________________________________________________________________________________\n",
      "block12_sepconv1_act (Activatio (None, 10, 10, 728)  0           add_21[0][0]                     \n",
      "__________________________________________________________________________________________________\n",
      "block12_sepconv1 (SeparableConv (None, 10, 10, 728)  536536      block12_sepconv1_act[0][0]       \n",
      "__________________________________________________________________________________________________\n",
      "block12_sepconv1_bn (BatchNorma (None, 10, 10, 728)  2912        block12_sepconv1[0][0]           \n",
      "__________________________________________________________________________________________________\n",
      "block12_sepconv2_act (Activatio (None, 10, 10, 728)  0           block12_sepconv1_bn[0][0]        \n",
      "__________________________________________________________________________________________________\n",
      "block12_sepconv2 (SeparableConv (None, 10, 10, 728)  536536      block12_sepconv2_act[0][0]       \n",
      "__________________________________________________________________________________________________\n",
      "block12_sepconv2_bn (BatchNorma (None, 10, 10, 728)  2912        block12_sepconv2[0][0]           \n",
      "__________________________________________________________________________________________________\n",
      "block12_sepconv3_act (Activatio (None, 10, 10, 728)  0           block12_sepconv2_bn[0][0]        \n",
      "__________________________________________________________________________________________________\n",
      "block12_sepconv3 (SeparableConv (None, 10, 10, 728)  536536      block12_sepconv3_act[0][0]       \n",
      "__________________________________________________________________________________________________\n",
      "block12_sepconv3_bn (BatchNorma (None, 10, 10, 728)  2912        block12_sepconv3[0][0]           \n",
      "__________________________________________________________________________________________________\n",
      "add_22 (Add)                    (None, 10, 10, 728)  0           block12_sepconv3_bn[0][0]        \n",
      "                                                                 add_21[0][0]                     \n",
      "__________________________________________________________________________________________________\n",
      "block13_sepconv1_act (Activatio (None, 10, 10, 728)  0           add_22[0][0]                     \n",
      "__________________________________________________________________________________________________\n",
      "block13_sepconv1 (SeparableConv (None, 10, 10, 728)  536536      block13_sepconv1_act[0][0]       \n",
      "__________________________________________________________________________________________________\n",
      "block13_sepconv1_bn (BatchNorma (None, 10, 10, 728)  2912        block13_sepconv1[0][0]           \n",
      "__________________________________________________________________________________________________\n",
      "block13_sepconv2_act (Activatio (None, 10, 10, 728)  0           block13_sepconv1_bn[0][0]        \n",
      "__________________________________________________________________________________________________\n",
      "block13_sepconv2 (SeparableConv (None, 10, 10, 1024) 752024      block13_sepconv2_act[0][0]       \n",
      "__________________________________________________________________________________________________\n",
      "block13_sepconv2_bn (BatchNorma (None, 10, 10, 1024) 4096        block13_sepconv2[0][0]           \n",
      "__________________________________________________________________________________________________\n",
      "conv2d_7 (Conv2D)               (None, 5, 5, 1024)   745472      add_22[0][0]                     \n",
      "__________________________________________________________________________________________________\n",
      "block13_pool (MaxPooling2D)     (None, 5, 5, 1024)   0           block13_sepconv2_bn[0][0]        \n",
      "__________________________________________________________________________________________________\n",
      "batch_normalization_7 (BatchNor (None, 5, 5, 1024)   4096        conv2d_7[0][0]                   \n",
      "__________________________________________________________________________________________________\n",
      "add_23 (Add)                    (None, 5, 5, 1024)   0           block13_pool[0][0]               \n",
      "                                                                 batch_normalization_7[0][0]      \n",
      "__________________________________________________________________________________________________\n",
      "block14_sepconv1 (SeparableConv (None, 5, 5, 1536)   1582080     add_23[0][0]                     \n",
      "__________________________________________________________________________________________________\n",
      "block14_sepconv1_bn (BatchNorma (None, 5, 5, 1536)   6144        block14_sepconv1[0][0]           \n",
      "__________________________________________________________________________________________________\n",
      "block14_sepconv1_act (Activatio (None, 5, 5, 1536)   0           block14_sepconv1_bn[0][0]        \n",
      "__________________________________________________________________________________________________\n",
      "block14_sepconv2 (SeparableConv (None, 5, 5, 2048)   3159552     block14_sepconv1_act[0][0]       \n",
      "__________________________________________________________________________________________________\n",
      "block14_sepconv2_bn (BatchNorma (None, 5, 5, 2048)   8192        block14_sepconv2[0][0]           \n",
      "__________________________________________________________________________________________________\n",
      "block14_sepconv2_act (Activatio (None, 5, 5, 2048)   0           block14_sepconv2_bn[0][0]        \n",
      "__________________________________________________________________________________________________\n",
      "global_average_pooling2d_1 (Glo (None, 2048)         0           block14_sepconv2_act[0][0]       \n",
      "__________________________________________________________________________________________________\n",
      "dense_1 (Dense)                 (None, 6)            12294       global_average_pooling2d_1[0][0] \n",
      "==================================================================================================\n",
      "Total params: 20,873,774\n",
      "Trainable params: 12,294\n",
      "Non-trainable params: 20,861,480\n",
      "__________________________________________________________________________________________________\n"
     ]
    }
   ],
   "source": [
    "from tensorflow import keras\n",
    "from tensorflow.keras import layers\n",
    "\n",
    "n_classes = len(list(samples.keys()))\n",
    "\n",
    "base_model = keras.applications.Xception(\n",
    "    weights=\"imagenet\",  # Load weights pre-trained on ImageNet.\n",
    "    input_shape=(160, 160, 3),\n",
    "    include_top=False\n",
    ")  # Do not include the ImageNet classifier at the top.\n",
    "\n",
    "x = keras.layers.GlobalAveragePooling2D()(base_model.output)\n",
    "# x = keras.layers.Dropout(0.2)(x)  # Regularize with dropout\n",
    "output = keras.layers.Dense(n_classes, activation='softmax')(x)\n",
    "model = keras.Model(base_model.input, output)\n",
    "\n",
    "# Freeze the base_model\n",
    "for layer in base_model.layers:\n",
    "    layer.trainable = False\n",
    "\n",
    "\n",
    "model.summary()"
   ]
  },
  {
   "cell_type": "markdown",
   "metadata": {},
   "source": [
    "### Train the model ( added layers only)"
   ]
  },
  {
   "cell_type": "code",
   "execution_count": null,
   "metadata": {
    "jupyter": {
     "source_hidden": true
    },
    "tags": []
   },
   "outputs": [],
   "source": [
    "from tensorflow.keras.optimizers import Adam, SGD\n",
    "from tensorflow.keras.callbacks import ModelCheckpoint, ReduceLROnPlateau, EarlyStopping, Callback\n",
    "import math\n",
    "\n",
    "reduce_lr = ReduceLROnPlateau(monitor='val_loss', factor=0.25, verbose=1, patience=4, min_lr=0.00001)\n",
    "\n",
    "# early_stopping = tf.keras.callbacks.EarlyStopping(monitor='val_loss', patience=6, restore_best_weights=True)\n",
    "\n",
    "# initial_learning_rate = 0.2\n",
    "# lr_schedule = tf.keras.optimizers.schedules.ExponentialDecay(\n",
    "#     initial_learning_rate,\n",
    "#     decay_steps=100000,\n",
    "#     decay_rate=0.9,\n",
    "#     staircase=True)\n",
    "\n",
    "\n",
    "# optimizer = SGD(learning_rate=0.2, momentum =0.9, decay=0.01)\n",
    "# optimizer = SGD(learning_rate=0.02)\n",
    "optimizer = Adam(learning_rate=0.2)\n",
    "\n",
    "# recompile\n",
    "model.compile(\n",
    "    optimizer=optimizer,\n",
    "    loss='categorical_crossentropy',\n",
    "    metrics=['accuracy'])\n",
    "\n",
    "# train\n",
    "history = model.fit(train_dataset,\n",
    "                    batch_size=batch_size,\n",
    "                    epochs=100,\n",
    "                    validation_data=test_dataset,\n",
    "                    verbose=1,\n",
    "                    callbacks=[\n",
    "                                reduce_lr,\n",
    "                                ModelCheckpoint(filepath='model_ckp/model_at_ep{epoch}.h5'),\n",
    "                                    ]\n",
    ")\n",
    "\n",
    "\n",
    "model.save('model_ckp/model_final.h5')"
   ]
  },
  {
   "cell_type": "markdown",
   "metadata": {},
   "source": [
    "### Fine Tuning"
   ]
  },
  {
   "cell_type": "code",
   "execution_count": null,
   "metadata": {
    "jupyter": {
     "source_hidden": true
    },
    "tags": []
   },
   "outputs": [],
   "source": [
    "# unfreeze and retrain\n",
    "for layer in base_model.layers:\n",
    "    layer.trainable = True\n",
    "    \n",
    "\n",
    "model.load_weights('model_bkp/model_at_ep100.h5')\n",
    "\n",
    "optimizer = Adam(1e-5)\n",
    "\n",
    "# recompile\n",
    "model.compile(\n",
    "    optimizer=optimizer,\n",
    "    loss='categorical_crossentropy',\n",
    "    metrics=['accuracy'])\n",
    "\n",
    "# train\n",
    "history = model.fit(train_dataset,\n",
    "                    batch_size=batch_size,\n",
    "                    epochs=150,\n",
    "                    validation_data=test_dataset,\n",
    "                    verbose=1,\n",
    "                    callbacks=[\n",
    "#                         reduce_lr,\n",
    "                                ModelCheckpoint(filepath='model_FT_ckp/model_FT_at_ep{epoch}.h5'),\n",
    "                                    ]\n",
    ")\n",
    "model.save('model_FT_ckp/model_FT_final.h5')"
   ]
  },
  {
   "cell_type": "markdown",
   "metadata": {},
   "source": [
    "### Plot metrics\n",
    "\n",
    "*Can be found in the Thesis document"
   ]
  },
  {
   "cell_type": "code",
   "execution_count": null,
   "metadata": {
    "jupyter": {
     "source_hidden": true
    },
    "tags": []
   },
   "outputs": [],
   "source": [
    "%matplotlib inline\n",
    "acc = history.history['accuracy']\n",
    "val_acc = history.history['val_accuracy']\n",
    "\n",
    "loss = history.history['loss']\n",
    "val_loss = history.history['val_loss']\n",
    "\n",
    "plt.figure(figsize=(8, 8))\n",
    "plt.subplot(2, 1, 1)\n",
    "plt.plot(acc, label='Training Accuracy')\n",
    "plt.plot(val_acc, label='Validation Accuracy')\n",
    "plt.legend(loc='lower right')\n",
    "plt.ylabel('Accuracy')\n",
    "plt.ylim([min(plt.ylim()),1])\n",
    "plt.title('Training and Validation Accuracy')\n",
    "\n",
    "plt.subplot(2, 1, 2)\n",
    "plt.plot(loss, label='Training Loss')\n",
    "plt.plot(val_loss, label='Validation Loss')\n",
    "plt.legend(loc='upper right')\n",
    "plt.ylabel('Cross Entropy')\n",
    "plt.ylim([0,1.0])\n",
    "plt.title('Training and Validation Loss')\n",
    "plt.xlabel('epoch')\n",
    "\n",
    "\n",
    "plt.savefig('model_bkp/loss_acc_plot.png', dpi=100)\n",
    "plt.show()"
   ]
  },
  {
   "cell_type": "markdown",
   "metadata": {},
   "source": [
    "## EVALUATE THE MODEL"
   ]
  },
  {
   "cell_type": "markdown",
   "metadata": {},
   "source": [
    "First Load the weights of the model"
   ]
  },
  {
   "cell_type": "code",
   "execution_count": 295,
   "metadata": {
    "jupyter": {
     "source_hidden": true
    },
    "tags": []
   },
   "outputs": [],
   "source": [
    "model.load_weights('model_bkp/model_FT_final.h5')"
   ]
  },
  {
   "cell_type": "markdown",
   "metadata": {},
   "source": [
    "Load created fuction for predictions into memory"
   ]
  },
  {
   "cell_type": "code",
   "execution_count": 279,
   "metadata": {
    "jupyter": {
     "source_hidden": true
    },
    "tags": []
   },
   "outputs": [],
   "source": [
    "LABELS = encoder.classes_\n",
    "# code inspired by keras_vvgface2.utils.decode_predictions\n",
    "def decode_predictions(preds, top=6):\n",
    "    results = []\n",
    "    LABELS = encoder.classes_\n",
    "    for pred in preds:\n",
    "        top_indices = pred.argsort()[-top:][::-1]\n",
    "        result = [[LABELS[i], pred[i]] for i in top_indices]\n",
    "        result.sort(key=lambda x: x[1], reverse=True)\n",
    "        results.append(result)\n",
    "    return results\n",
    "\n",
    "\n",
    "def show_predictions(predictions):\n",
    "    print('Raw prediction:\\n',predictions,'\\n')\n",
    "    for result in predictions:\n",
    "        percentage = result[1]*100\n",
    "        iclass = result[0]\n",
    "        print(\"{}: {:.4f}%\".format(iclass,percentage))\n",
    "        "
   ]
  },
  {
   "cell_type": "markdown",
   "metadata": {},
   "source": [
    "### Prepare a numpy set from the test set.\n",
    "- This might seem redundant by this conversion is necessary because of tensorflow prefetch mechanics"
   ]
  },
  {
   "cell_type": "code",
   "execution_count": 386,
   "metadata": {},
   "outputs": [
    {
     "name": "stdout",
     "output_type": "stream",
     "text": [
      "Rebuilding a test array because these images have been preprocessed\n"
     ]
    },
    {
     "data": {
      "application/vnd.jupyter.widget-view+json": {
       "model_id": "fb0cd1e1952a4796a5d5cf84f53d19e6",
       "version_major": 2,
       "version_minor": 0
      },
      "text/plain": [
       "Batches of 32:   0%|          | 0/29 [00:00<?, ?it/s]"
      ]
     },
     "metadata": {},
     "output_type": "display_data"
    }
   ],
   "source": [
    "alltests = tfds.as_numpy(test_dataset)\n",
    "new_test_data_array = []\n",
    "print('Rebuilding a test array because these images have been preprocessed')\n",
    "for bt in tqdm(alltests,'Batches of 32'):\n",
    "    images = tup[0]\n",
    "    labels = tup[1]\n",
    "    for x in range(images.shape[0]):\n",
    "        new_test_data_array.append((image[x],label[x]))\n",
    "        \n",
    "new_test_data_array = np.array(new_test_data_array, dtype=object)"
   ]
  },
  {
   "cell_type": "markdown",
   "metadata": {},
   "source": [
    "### Evaluate single random predictions"
   ]
  },
  {
   "cell_type": "code",
   "execution_count": 385,
   "metadata": {
    "tags": []
   },
   "outputs": [
    {
     "name": "stdout",
     "output_type": "stream",
     "text": [
      "Example for: Amy Adams\n",
      "Raw Image size: (160, 160, 3)\n",
      "Extracted face image size: (160, 160, 3)\n",
      "Raw prediction:\n",
      " [['Amy Adams', 0.9996803], ['David Hasselhoff', 0.00031116683], ['Denzel Washington', 4.830126e-06], ['Ashley Olsen', 3.674636e-06], ['Antonio Banderas', 4.0768584e-09], ['Russell Brand', 4.628112e-11]] \n",
      "\n",
      "Amy Adams: 99.9680%\n",
      "David Hasselhoff: 0.0311%\n",
      "Denzel Washington: 0.0005%\n",
      "Ashley Olsen: 0.0004%\n",
      "Antonio Banderas: 0.0000%\n",
      "Russell Brand: 0.0000%\n"
     ]
    },
    {
     "data": {
      "image/png": "[encoded data removed]",
      "text/plain": [
       "<Figure size 432x288 with 1 Axes>"
      ]
     },
     "metadata": {
      "needs_background": "light"
     },
     "output_type": "display_data"
    }
   ],
   "source": [
    "%matplotlib inline\n",
    "import random\n",
    "LABELS = encoder.classes_\n",
    "rnd = random.randint(0,len(X_test))\n",
    "plt.imshow(X_test[rnd])\n",
    "\n",
    "print('Example for:',LABELS[np.argmax(y_test[rnd])])\n",
    "\n",
    "print('Raw Image size:', np.array(X_test[rnd]).shape)\n",
    "test_img = extract_faces_from_img(X_test[rnd],is_path=False)\n",
    "print('Extracted face image size:',np.array(test_img).shape)\n",
    "\n",
    "lbl = ''\n",
    "img, lbl = preprocess(test_img,lbl)\n",
    "img = np.expand_dims(img, axis=0)\n",
    "\n",
    "pred = model.predict(img, batch_size=None)\n",
    "decoded = decode_predictions(pred)[0]\n",
    "show_predictions(decoded)"
   ]
  },
  {
   "cell_type": "markdown",
   "metadata": {},
   "source": [
    "### Misclassified Examples"
   ]
  },
  {
   "cell_type": "markdown",
   "metadata": {},
   "source": [
    "This function gathers all misclassified images in order to display them in detail in the document."
   ]
  },
  {
   "cell_type": "code",
   "execution_count": null,
   "metadata": {
    "jupyter": {
     "source_hidden": true
    },
    "tags": []
   },
   "outputs": [],
   "source": [
    "def gather_missclassified():\n",
    "    misclassified_i=[]\n",
    "    for image in X_test:\n",
    "        test_img = extract_faces_from_img(image,is_path=False)\n",
    "\n",
    "        true_label = y_test[image]\n",
    "        true_class_name = [LABELS[i] for i in true_label if i==1]\n",
    "        \n",
    "        img, label = preprocess(test_img,true_label)\n",
    "        img = np.expand_dims(img, axis=0)\n",
    "\n",
    "        predicted_label = model.predict(img, batch_size=None)\n",
    "        decoded = decode_predictions(predicted_label)[0]\n",
    "\n",
    "        if decoded[0][0] == true_class_name:\n",
    "            misclassified_i.append(image)\n",
    "            \n",
    "    return misclassified_i"
   ]
  },
  {
   "cell_type": "markdown",
   "metadata": {
    "tags": []
   },
   "source": [
    "# Adversarial Attacks"
   ]
  },
  {
   "cell_type": "markdown",
   "metadata": {
    "tags": []
   },
   "source": [
    "## Deepfool"
   ]
  },
  {
   "cell_type": "code",
   "execution_count": 302,
   "metadata": {
    "jupyter": {
     "source_hidden": true
    },
    "tags": []
   },
   "outputs": [],
   "source": [
    "import copy\n",
    "\n",
    "class Deepfool():\n",
    "    def __init__(self, image, label , model):\n",
    "        #  Initialize class variables\n",
    "        self.original_image, self.original_label = image,label\n",
    "        \n",
    "        # According to original Deepfool code, model must have output BEFORE softmax, so we remove the top\n",
    "        logitsmodel = model.layers[-2].output \n",
    "        self.model = keras.Model(base_model.input, logitsmodel)\n",
    "        self.num_classes = len(self.original_label)\n",
    "        \n",
    "    def loss_func(self, logits, I, k):\n",
    "        return logits[0, I[k]]\n",
    "    \n",
    "    def generate_adversarial_samples(self, max_iter=50, overshoot = 0.02):\n",
    "\n",
    "        if len(self.original_image) == 0:\n",
    "            print('CANNOT CALCULATE DEEPFOOL BECAUSE FACE IS NOT RECOGNIZED')\n",
    "            \n",
    "        image_array = np.array(self.original_image)\n",
    "        image_norm = tf.cast(image_array, tf.float32)\n",
    "        # place in array to meet model input shape\n",
    "        expandend_img = np.expand_dims(image_norm, axis=0)\n",
    "\n",
    "        # sorting predicted classes before perturbation\n",
    "        f_image = self.model(expandend_img).numpy().flatten()\n",
    "        I = (np.array(f_image)).flatten().argsort()[::-1]\n",
    "        # predicted logits before perturbation\n",
    "        I = I[0:self.num_classes]\n",
    "        # predicted class before perturbation\n",
    "        xlabel = I[0]\n",
    "        \n",
    "        # initialise important variables for the loop\n",
    "        input_shape = expandend_img.shape\n",
    "        perturbated_img = copy.deepcopy(expandend_img)\n",
    "        # initialise gradients as zeros\n",
    "        w = np.zeros(input_shape)\n",
    "        # initialise r_tot as zeros\n",
    "        total_perturbation = np.zeros(input_shape)\n",
    "\n",
    "        # create tf variable for functional API pass\n",
    "        x = tf.Variable(perturbated_img)\n",
    "        # Perform first pass of image to model to get logits\n",
    "        fs = self.model(x)\n",
    "        # perturbated class label. we initialise it as the original\n",
    "        k_i = xlabel\n",
    "        loop_it = 0\n",
    "        pbar = tqdm(total=max_iter)\n",
    "        while k_i == xlabel and loop_it < max_iter:\n",
    "            \n",
    "            #set max perturbation to infinity\n",
    "            max_perturbation = np.inf\n",
    "            \n",
    "            # calculate gradients\n",
    "            with tf.GradientTape() as tape:\n",
    "                tape.watch(x)\n",
    "                fs = self.model(x)\n",
    "                loss_value = self.loss_func(fs, I, 0)\n",
    "            grad_orig = tape.gradient(loss_value, x)\n",
    "            \n",
    "            for k in range(1, self.num_classes):\n",
    "                \n",
    "                with tf.GradientTape() as tape:\n",
    "                    tape.watch(x)\n",
    "                    fs = self.model(x)\n",
    "                    loss_value = self.loss_func(fs, I, k)\n",
    "                cur_grad = tape.gradient(loss_value, x)\n",
    "                \n",
    "                # difference in gradients and difference in labels (from logits) respectively\n",
    "                w_k = cur_grad - grad_orig\n",
    "                f_k = (fs[0, I[k]] - fs[0, I[0]]).numpy()\n",
    "\n",
    "                # minimal perturnation that projects to closest hyperplane\n",
    "                pert_k = abs(f_k) / np.linalg.norm(tf.reshape(w_k, [-1]))\n",
    "                    \n",
    "            \n",
    "                # iteratively reduce inf perturbation until we find the minimum pert\n",
    "                if pert_k < max_perturbation:\n",
    "                    max_perturbation = pert_k\n",
    "                    w = w_k\n",
    "            \n",
    "            # compute perturbation_i and total_perturbation\n",
    "            # Added 1e-4 for numerical stability\n",
    "            perturbation_i =  (max_perturbation + 1e-4) * w / np.linalg.norm(w) \n",
    "            total_perturbation = np.float32(total_perturbation + perturbation_i)\n",
    "            \n",
    "            perturbated_img = self.original_image + (1 + overshoot) * total_perturbation\n",
    "\n",
    "            x = tf.Variable(perturbated_img)\n",
    "            fs = self.model(x)\n",
    "            k_i = np.argmax(fs.numpy().flatten())\n",
    "            #increment loop variable\n",
    "            loop_it += 1\n",
    "            pbar.update(1)\n",
    "        pbar.close()\n",
    "        # END OF LOOP\n",
    "        total_perturbation = (1 + overshoot) * total_perturbation\n",
    "        perturbated_img = np.reshape(perturbated_img, (160, 160, 3))\n",
    "\n",
    "        return total_perturbation, loop_it, xlabel, k_i, perturbated_img, I"
   ]
  },
  {
   "cell_type": "code",
   "execution_count": 380,
   "metadata": {},
   "outputs": [
    {
     "data": {
      "text/plain": [
       "(160, 160, 3)"
      ]
     },
     "execution_count": 380,
     "metadata": {},
     "output_type": "execute_result"
    }
   ],
   "source": []
  },
  {
   "cell_type": "code",
   "execution_count": 387,
   "metadata": {},
   "outputs": [
    {
     "name": "stdout",
     "output_type": "stream",
     "text": [
      "Example for: Amy Adams\n",
      "Raw prediction:\n",
      " [['Russell Brand', 1.0], ['Denzel Washington', 0.0], ['David Hasselhoff', 0.0], ['Ashley Olsen', 0.0], ['Antonio Banderas', 0.0], ['Amy Adams', 0.0]] \n",
      "\n",
      "Russell Brand: 100.0000%\n",
      "Denzel Washington: 0.0000%\n",
      "David Hasselhoff: 0.0000%\n",
      "Ashley Olsen: 0.0000%\n",
      "Antonio Banderas: 0.0000%\n",
      "Amy Adams: 0.0000%\n"
     ]
    },
    {
     "data": {
      "application/vnd.jupyter.widget-view+json": {
       "model_id": "58ddda1fdf8549129dd5cbb9d3ebb538",
       "version_major": 2,
       "version_minor": 0
      },
      "text/plain": [
       "  0%|          | 0/50 [00:00<?, ?it/s]"
      ]
     },
     "metadata": {},
     "output_type": "display_data"
    },
    {
     "name": "stdout",
     "output_type": "stream",
     "text": [
      "Raw prediction:\n",
      " [['Russell Brand', 1.0], ['Denzel Washington', 0.0], ['David Hasselhoff', 0.0], ['Ashley Olsen', 0.0], ['Antonio Banderas', 0.0], ['Amy Adams', 0.0]] \n",
      "\n",
      "Russell Brand: 100.0000%\n",
      "Denzel Washington: 0.0000%\n",
      "David Hasselhoff: 0.0000%\n",
      "Ashley Olsen: 0.0000%\n",
      "Antonio Banderas: 0.0000%\n",
      "Amy Adams: 0.0000%\n"
     ]
    },
    {
     "data": {
      "image/png": "[encoded data removed]",
      "text/plain": [
       "<Figure size 432x288 with 2 Axes>"
      ]
     },
     "metadata": {
      "needs_background": "light"
     },
     "output_type": "display_data"
    }
   ],
   "source": [
    "rnd = random.randint(0,len(new_test_data_array))\n",
    "test_img = new_test_data_array[rnd][0]\n",
    "test_label = new_test_data_array[rnd][1]\n",
    "\n",
    "print('Example for:',LABELS[np.argmax(test_label)])\n",
    "deepfool = Deepfool(test_img, test_label, model)\n",
    "\n",
    "pred = model.predict(np.expand_dims(test_img,axis=0), batch_size=None)\n",
    "decoded = decode_predictions(pred)[0]\n",
    "show_predictions(decoded)\n",
    "\n",
    "total_perturbation, loop_it, xlabel, k_i, perturbated_img, I = deepfool.generate_adversarial_samples()\n",
    "# print(\"Original Label: \", xlabel)\n",
    "# print(\"Perturbated Label: \", k_i)\n",
    "f, axarr = plt.subplots(1,2)\n",
    "axarr[0].imshow(cv2.normalize(test_img, None, 0, 255, cv2.NORM_MINMAX, cv2.CV_8U))\n",
    "axarr[0].set_title('Original Image')\n",
    "axarr[1].imshow(cv2.normalize(perturbated_img, None, 0, 255, cv2.NORM_MINMAX, cv2.CV_8U))\n",
    "axarr[1].set_title('Perturbated Image')\n",
    "\n",
    "new_pred = model.predict(np.expand_dims(perturbated_img,axis=0), batch_size=None)\n",
    "new_decoded = decode_predictions(new_pred)[0]\n",
    "show_predictions(new_decoded)"
   ]
  },
  {
   "cell_type": "code",
   "execution_count": 296,
   "metadata": {},
   "outputs": [
    {
     "data": {
      "text/plain": [
       "array([[0., 0., 0., 0., 0., 1.]], dtype=float32)"
      ]
     },
     "execution_count": 296,
     "metadata": {},
     "output_type": "execute_result"
    }
   ],
   "source": []
  },
  {
   "cell_type": "markdown",
   "metadata": {},
   "source": [
    "### Test Deepfool iteratively"
   ]
  },
  {
   "cell_type": "code",
   "execution_count": null,
   "metadata": {},
   "outputs": [],
   "source": [
    "for i in X_test:\n",
    "    try:\n",
    "        test_img = X_test[i]\n",
    "        test_label = y_test[i]\n",
    "        print('Example for:',LABELS[np.argmax(test_label)])\n",
    "        deepfool = Deepfool(test_img, test_label, model)\n",
    "\n",
    "        total_perturbation, loop_it, xlabel, k_i, perturbated_img= deepfool.generate_adversarial_samples()\n",
    "        print(perturbated_img.shape)\n",
    "        adversarial_img = np.reshape(perturbated_img, (160, 160, 3))\n",
    "        print(adversarial_img.shape)\n",
    "        plt.imshow(adversarial_img)\n",
    "    except:\n",
    "        plt.imshow(test_img)"
   ]
  },
  {
   "cell_type": "markdown",
   "metadata": {},
   "source": [
    "## Spiked Deepfool"
   ]
  },
  {
   "cell_type": "code",
   "execution_count": null,
   "metadata": {
    "jupyter": {
     "source_hidden": true
    },
    "tags": []
   },
   "outputs": [],
   "source": [
    "class Deepfool():\n",
    "    def __init__(self, image, label , model):\n",
    "        #  Initialize class variables\n",
    "        image = extract_faces_from_img(image,is_path=False)\n",
    "        self.original_image, self.original_label = preprocess(test_img,label)\n",
    "        \n",
    "        # According to original Deepfool code, model must have output BEFORE softmax, so we remove the top\n",
    "        logitsmodel = model .layers[-1].output \n",
    "        self.model = keras.Model(base_model.input, logitsmodel)\n",
    "        self.num_classes = len(self.original_label)\n",
    "        \n",
    "    def loss_func(self, logits, I, k):\n",
    "        return logits[0, I[k]]\n",
    "    \n",
    "    def generate_adversarial_samples(self, max_iter=50, overshoot = 0.02):\n",
    "\n",
    "        if len(self.original_image) == 0:\n",
    "            print('CANNOT CALCULATE DEEPFOOL BECAUSE FACE IS NOT RECOGNIZED')\n",
    "            \n",
    "        image_array = np.array(self.original_image)\n",
    "        # print(np.shape(image_array)) # 28*28\n",
    "\n",
    "        image_norm = image_array * 255.0/image_array.max() \n",
    "        image_norm = np.reshape(image_norm, (160,160,3))  \n",
    "        # place in array to meet model input shape\n",
    "        expandend_img = np.expand_dims(image_norm, axis=0)\n",
    "        \n",
    "        # sorting predicted classes before perturbation\n",
    "        f_image = self.model(expandend_img).numpy().flatten()\n",
    "        I = (np.array(f_image)).flatten().argsort()[::-1]\n",
    "        # predicted onehot before perturbation\n",
    "        I = I[0:self.num_classes]\n",
    "        # predicted class before perturbation\n",
    "        xlabel = I[0]\n",
    "        \n",
    "        \n",
    "        # initialise important variables for the loop\n",
    "        input_shape = np.shape(expandend_img)\n",
    "        perturbated_img = expandend_img\n",
    "        # initialise gradients as zeros\n",
    "        w = np.zeros(input_shape)\n",
    "        # initialise r_tot as zeros\n",
    "        total_perturbation = np.zeros(input_shape)\n",
    "\n",
    "        # create tf variable for functional API pass\n",
    "        x = tf.Variable(perturbated_img)\n",
    "        # Perform first pass\n",
    "        forwardpass = self.model(x)\n",
    "        # perturbated class label. we initialise it as the original\n",
    "        k_i = xlabel\n",
    "        \n",
    "        loop_it = 0\n",
    "        while k_i == xlabel and loop_it < max_iter:\n",
    "            \n",
    "            #set max perturbation to infinity\n",
    "            max_perturbation = np.inf\n",
    "            \n",
    "            # create dummy one hot of the original predicted label before perturbation\n",
    "            one_hot_label_0 = tf.one_hot(xlabel, self.num_classes)\n",
    "            # calculate gradients\n",
    "            with tf.GradientTape() as tape:\n",
    "                tape.watch(x)\n",
    "                forwardpass = self.model(x)\n",
    "                loss_value = self.loss_func(forwardpass, I, 0)\n",
    "            grad_orig = tape.gradient(loss_value, x)\n",
    "            \n",
    "            for k in range(1, self.num_classes):\n",
    "                \n",
    "                one_hot_label_k = tf.one_hot(I[k], self.num_classes)\n",
    "                with tf.GradientTape() as tape:\n",
    "                    tape.watch(x)\n",
    "                    forwardpass = self.model(x)\n",
    "                    loss_value = self.loss_func(forwardpass, I, k)\n",
    "                cur_grad = tape.gradient(loss_value, x)\n",
    "                \n",
    "                # difference in gradients\n",
    "                w_k = cur_grad - grad_orig\n",
    "                f_k = (forwardpass[0, I[k]] - forwardpass[0, I[0]]).numpy()\n",
    "\n",
    "                pert_k = abs(f_k) / np.linalg.norm(tf.reshape(w_k, [-1]))\n",
    "                    \n",
    "            \n",
    "                # iteratively reduce inf perturbation until we find the minimum pert\n",
    "                if pert_k < max_perturbation:\n",
    "                    max_perturbation = pert_k\n",
    "                    w = w_k\n",
    "            \n",
    "            \n",
    "            # compute perturbation_i and total_perturbation\n",
    "            # Added 1e-4 for numerical stability\n",
    "            perturbation_i =  (max_perturbation + 1e-4) * w / np.linalg.norm(w) \n",
    "            total_perturbation = np.float32(total_perturbation + perturbation_i)\n",
    "\n",
    "            perturbated_img = self.original_image + (1 + overshoot) * total_perturbation\n",
    "            \n",
    "            x = tf.Variable(perturbated_img)\n",
    "            forwardpass = self.model(x)\n",
    "            k_i = np.argmax(np.array(forwardpass).flatten())\n",
    "        \n",
    "            #increment loop variable\n",
    "            loop_it += 1\n",
    "            \n",
    "        # END OF LOOP\n",
    "        \n",
    "        total_perturbation = (1 + overshoot) * total_perturbation\n",
    "            \n",
    "        return total_perturbation, k_i, xlabel, loop_it, perturbated_img"
   ]
  },
  {
   "cell_type": "markdown",
   "metadata": {},
   "source": [
    "## Targeted Deepfool"
   ]
  },
  {
   "cell_type": "code",
   "execution_count": null,
   "metadata": {},
   "outputs": [],
   "source": []
  }
 ],
 "metadata": {
  "kernelspec": {
   "display_name": "venv",
   "language": "python",
   "name": "venv"
  },
  "language_info": {
   "codemirror_mode": {
    "name": "ipython",
    "version": 3
   },
   "file_extension": ".py",
   "mimetype": "text/x-python",
   "name": "python",
   "nbconvert_exporter": "python",
   "pygments_lexer": "ipython3",
   "version": "3.8.10"
  },
  "metadata": {
   "interpreter": {
    "hash": "5152878ccfa80b2aa2c339683f5c28e34a73d20567e7e9cb69acb74956c72351"
   }
  },
  "toc-autonumbering": false,
  "toc-showcode": false,
  "toc-showmarkdowntxt": false,
  "toc-showtags": false
 },
 "nbformat": 4,
 "nbformat_minor": 4
}
