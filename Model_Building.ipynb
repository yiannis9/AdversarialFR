{
 "cells": [
  {
   "cell_type": "markdown",
   "metadata": {},
   "source": [
    "**SID**: 52095515\n",
    "\n",
    "**PG Student**: Ioannis Keravnos\n",
    "\n",
    "**Msc Thesis** - Sophisticated Adversarial Attacks on Facial Recogntion Systems and what the future holds."
   ]
  },
  {
   "cell_type": "markdown",
   "metadata": {},
   "source": [
    "# Building an FR model"
   ]
  },
  {
   "cell_type": "markdown",
   "metadata": {
    "tags": []
   },
   "source": [
    "## LIBRARY IMPORTS"
   ]
  },
  {
   "cell_type": "code",
   "execution_count": 1,
   "metadata": {
    "jupyter": {
     "source_hidden": true
    },
    "tags": []
   },
   "outputs": [],
   "source": [
    "import matplotlib.pyplot as plt\n",
    "import numpy as np\n",
    "import os\n",
    "from PIL import Image\n",
    "import tensorflow as tf\n",
    "import tensorflow_datasets as tfds\n",
    "from tensorflow import keras\n",
    "from tensorflow.keras import layers\n",
    "from tensorflow.keras.models import Sequential\n",
    "\n",
    "from mtcnn.mtcnn import MTCNN\n",
    "import cv2\n",
    "from tqdm.notebook import tqdm"
   ]
  },
  {
   "cell_type": "markdown",
   "metadata": {
    "tags": []
   },
   "source": [
    "## LOAD DATASET AND PREPROCESS"
   ]
  },
  {
   "cell_type": "markdown",
   "metadata": {
    "tags": []
   },
   "source": [
    "A few preprocessing steps are required to make the dataset ready for training\n",
    "\n",
    "- Extrace faces\n",
    "- Replace images with the extracted faces (This is common and much more efficient than including the whole image, since it can include many unimportant features)\n",
    "- Rescale the images to a smaller size (also a matter of efficiency. It is handled by the face extraction function formulated below)\n",
    "- Saving the train and test sets after preprocessing as numpy objects to enable easy reproduction of experiments in the future by just loading the numpy object.\n",
    "- Clean dataset of any non-recognized faces since it will return None\n",
    "- Encode class labels to one hot arrays for the classifier to use multiclass classification with catergorical entropy\n",
    "- Cast to tf dataset to be able to perform the specified preprocessing\n",
    "- Split the dataset into train and test arrays\n",
    "- Creating batch organised datasets\n"
   ]
  },
  {
   "cell_type": "markdown",
   "metadata": {},
   "source": [
    "### Face Extraction"
   ]
  },
  {
   "cell_type": "code",
   "execution_count": 2,
   "metadata": {
    "jupyter": {
     "source_hidden": true
    },
    "tags": []
   },
   "outputs": [],
   "source": [
    "# can detect multiple faces but for our tasks we assume just one face images only\n",
    "def extract_faces_from_img(imagePath, required_size=(160, 160), is_path=True):\n",
    "    if is_path:\n",
    "        image = Image.open(imagePath)\n",
    "    else:\n",
    "        image = imagePath\n",
    "    image = np.asarray(image)\n",
    "    gray = cv2.cvtColor(image, cv2.COLOR_BGR2GRAY)\n",
    "    faceCascade = cv2.CascadeClassifier(cv2.data.haarcascades + \"haarcascade_frontalface_default.xml\")\n",
    "    faces = faceCascade.detectMultiScale(\n",
    "                                        gray,\n",
    "                                        scaleFactor=1.3,\n",
    "                                        minNeighbors=3,\n",
    "                                        minSize=(30, 30)\n",
    "                                        )\n",
    "    if len(faces) != 0:\n",
    "        for (x, y, w, h) in faces:\n",
    "            cv2.rectangle(image, (x, y), (x + w, y + h), (0, 255, 0), 2)\n",
    "            roi_color = image[y:y + h, x:x + w]\n",
    "        # resize pixels to the model size\n",
    "        image = Image.fromarray(roi_color)\n",
    "        image = image.resize(required_size)\n",
    "        face_array = np.asarray(image)\n",
    "    else:\n",
    "        # if face is not detected we need to return None\n",
    "        face_array = None\n",
    "    return face_array"
   ]
  },
  {
   "cell_type": "markdown",
   "metadata": {},
   "source": [
    "### Custom 6-person dataset for a classiffier"
   ]
  },
  {
   "cell_type": "code",
   "execution_count": 3,
   "metadata": {
    "jupyter": {
     "source_hidden": true
    },
    "tags": []
   },
   "outputs": [],
   "source": [
    "samples = {\n",
    "            'n000810':'Ashley Olsen',\n",
    "            'n002038':'David Hasselhoff',\n",
    "            'n000419':'Amy Adams',\n",
    "            'n000709':'Antonio Banderas',\n",
    "            'n007619':'Russell Brand',\n",
    "            'n002141':'Denzel Washington'\n",
    "}\n",
    "\n",
    "train_ds_path = r'C:\\Users\\Keravnos\\Documents\\VGG-Face2\\data\\vggface2_train.tar\\train'\n",
    "\n",
    "def prepare_dataset(samples, train_data_path):\n",
    "    ds = []\n",
    "    # list out dict keys\n",
    "    key_list = list(samples.keys())\n",
    "    #iterate over our 6 identity directories\n",
    "    for k in tqdm(key_list,'Identities'):\n",
    "        # use this as label\n",
    "        label = samples[k]\n",
    "        #directory path of images for each identity\n",
    "        dir_path = os.path.join(train_data_path,k)\n",
    "        print('Extracting images for', label)\n",
    "        # iterate over image directory and extract faces\n",
    "        for img in tqdm(os.listdir(dir_path),'Images'):\n",
    "            # need the image path for the face extraction method\n",
    "            img_path = os.path.join(dir_path,img)\n",
    "            # create a face array variable where the extracted face is constructed by the function.\n",
    "            face_array = extract_faces_from_img(img_path)\n",
    "            # add both image and label in dataset\n",
    "            ds.append((face_array,label))\n",
    "    print('DATASET COMPILED!')\n",
    "    return ds"
   ]
  },
  {
   "cell_type": "code",
   "execution_count": 32,
   "metadata": {
    "jupyter": {
     "source_hidden": true
    },
    "tags": []
   },
   "outputs": [
    {
     "data": {
      "application/vnd.jupyter.widget-view+json": {
       "model_id": "4c50250c8b8c4dbfb8ec7c189c3bb612",
       "version_major": 2,
       "version_minor": 0
      },
      "text/plain": [
       "Identities:   0%|          | 0/6 [00:00<?, ?it/s]"
      ]
     },
     "metadata": {},
     "output_type": "display_data"
    },
    {
     "name": "stdout",
     "output_type": "stream",
     "text": [
      "Extracting images for Ashley Olsen\n"
     ]
    },
    {
     "data": {
      "application/vnd.jupyter.widget-view+json": {
       "model_id": "01ebf0b440794c0b97337d8e44334d93",
       "version_major": 2,
       "version_minor": 0
      },
      "text/plain": [
       "Images:   0%|          | 0/843 [00:00<?, ?it/s]"
      ]
     },
     "metadata": {},
     "output_type": "display_data"
    },
    {
     "name": "stdout",
     "output_type": "stream",
     "text": [
      "Extracting images for David Hasselhoff\n"
     ]
    },
    {
     "data": {
      "application/vnd.jupyter.widget-view+json": {
       "model_id": "5c3392531d4c49c4a48a5919d0256fbc",
       "version_major": 2,
       "version_minor": 0
      },
      "text/plain": [
       "Images:   0%|          | 0/542 [00:00<?, ?it/s]"
      ]
     },
     "metadata": {},
     "output_type": "display_data"
    },
    {
     "name": "stdout",
     "output_type": "stream",
     "text": [
      "Extracting images for Amy Adams\n"
     ]
    },
    {
     "data": {
      "application/vnd.jupyter.widget-view+json": {
       "model_id": "4fbb94abf6d64488b5dbdb38216bd232",
       "version_major": 2,
       "version_minor": 0
      },
      "text/plain": [
       "Images:   0%|          | 0/689 [00:00<?, ?it/s]"
      ]
     },
     "metadata": {},
     "output_type": "display_data"
    },
    {
     "name": "stdout",
     "output_type": "stream",
     "text": [
      "Extracting images for Antonio Banderas\n"
     ]
    },
    {
     "data": {
      "application/vnd.jupyter.widget-view+json": {
       "model_id": "79bdc43c92a9409a9f0f7221a241f741",
       "version_major": 2,
       "version_minor": 0
      },
      "text/plain": [
       "Images:   0%|          | 0/451 [00:00<?, ?it/s]"
      ]
     },
     "metadata": {},
     "output_type": "display_data"
    },
    {
     "name": "stdout",
     "output_type": "stream",
     "text": [
      "Extracting images for Russell Brand\n"
     ]
    },
    {
     "data": {
      "application/vnd.jupyter.widget-view+json": {
       "model_id": "42f4fa0754fd43d5b36c5236cd02104f",
       "version_major": 2,
       "version_minor": 0
      },
      "text/plain": [
       "Images:   0%|          | 0/640 [00:00<?, ?it/s]"
      ]
     },
     "metadata": {},
     "output_type": "display_data"
    },
    {
     "name": "stdout",
     "output_type": "stream",
     "text": [
      "Extracting images for Denzel Washington\n"
     ]
    },
    {
     "data": {
      "application/vnd.jupyter.widget-view+json": {
       "model_id": "c408d522227a4d2ba724fa8542d988a6",
       "version_major": 2,
       "version_minor": 0
      },
      "text/plain": [
       "Images:   0%|          | 0/545 [00:00<?, ?it/s]"
      ]
     },
     "metadata": {},
     "output_type": "display_data"
    },
    {
     "name": "stdout",
     "output_type": "stream",
     "text": [
      "DATASET COMPILED!\n"
     ]
    },
    {
     "data": {
      "text/plain": [
       "(3710, 2)"
      ]
     },
     "execution_count": 32,
     "metadata": {},
     "output_type": "execute_result"
    }
   ],
   "source": [
    "ds = prepare_dataset(samples,train_ds_path)\n",
    "ds = np.asarray(ds, dtype=object)\n",
    "ds.shape"
   ]
  },
  {
   "cell_type": "markdown",
   "metadata": {},
   "source": [
    "### Clean all non recognised images from dataset.\n",
    "\n",
    "Sometimes while extracting faces, there is a chance that a face will not be recognized, which will in turn yield a **None** object. This is something that we must clean from the dataset as it will create all sorts of errors on the way. Notice that while we search for **None** in images, we **must** still delete its corresponding label, hence the whole row for that specific data entry."
   ]
  },
  {
   "cell_type": "code",
   "execution_count": 33,
   "metadata": {
    "jupyter": {
     "source_hidden": true
    },
    "tags": []
   },
   "outputs": [
    {
     "data": {
      "text/plain": [
       "(3068, 2)"
      ]
     },
     "execution_count": 33,
     "metadata": {},
     "output_type": "execute_result"
    }
   ],
   "source": [
    "ds = [(image,label) for (image,label) in ds if image.__class__.__name__ != 'NoneType' ]\n",
    "ds = np.asarray(ds, dtype=object)\n",
    "ds.shape"
   ]
  },
  {
   "cell_type": "code",
   "execution_count": 34,
   "metadata": {
    "jupyter": {
     "source_hidden": true
    },
    "tags": []
   },
   "outputs": [],
   "source": [
    "images = [image for image,label in ds]\n",
    "labels = [label for image,label in ds]"
   ]
  },
  {
   "cell_type": "markdown",
   "metadata": {
    "tags": []
   },
   "source": [
    "### ******Optional (Save and load numpy files to cut through the previous steps)"
   ]
  },
  {
   "cell_type": "markdown",
   "metadata": {},
   "source": [
    "Save the images and labels"
   ]
  },
  {
   "cell_type": "code",
   "execution_count": 35,
   "metadata": {
    "jupyter": {
     "source_hidden": true
    },
    "tags": []
   },
   "outputs": [],
   "source": [
    "np.save('images.npy', images)\n",
    "np.save('labels.npy', labels)"
   ]
  },
  {
   "cell_type": "markdown",
   "metadata": {},
   "source": [
    "Or load them"
   ]
  },
  {
   "cell_type": "code",
   "execution_count": 4,
   "metadata": {
    "tags": []
   },
   "outputs": [],
   "source": [
    "labels = np.load('labels.npy')\n",
    "images = np.load('images.npy')"
   ]
  },
  {
   "cell_type": "code",
   "execution_count": 5,
   "metadata": {
    "tags": []
   },
   "outputs": [
    {
     "data": {
      "text/plain": [
       "(3068, 160, 160, 3)"
      ]
     },
     "execution_count": 5,
     "metadata": {},
     "output_type": "execute_result"
    }
   ],
   "source": [
    "images.shape"
   ]
  },
  {
   "cell_type": "markdown",
   "metadata": {
    "tags": []
   },
   "source": [
    "### Create one hot arrays for the class labels\n",
    "\n",
    "This is required since we are attempting to build a multi-class classifier. The following will encode string labels to numerical labels first using scikit-learn. Then we use tensorflows to_categorical utility function to convert the now numerical labelled data to one hot arrays."
   ]
  },
  {
   "cell_type": "markdown",
   "metadata": {},
   "source": [
    "Run the cell below only if you didn't load the dataset from the npy file already."
   ]
  },
  {
   "cell_type": "code",
   "execution_count": 6,
   "metadata": {
    "tags": []
   },
   "outputs": [],
   "source": [
    "from sklearn.preprocessing import LabelEncoder\n",
    "\n",
    "# encode class values as integers\n",
    "encoder = LabelEncoder()\n",
    "encoder.fit(labels)\n",
    "encoded_Y = encoder.transform(labels)\n",
    "# convert integers to dummy variables (i.e. one hot encoded)\n",
    "dummy_y = tf.keras.utils.to_categorical(encoded_Y)"
   ]
  },
  {
   "cell_type": "markdown",
   "metadata": {},
   "source": [
    "### Splitting the dataset\n",
    "\n",
    "It is required to split the dataset since we will be using a train and test set. To be exact we will be using the test set as a validation test, yet we will also use it to evaluate the model. This unconventional but it stems from the fact that classiffiers are built on much larger datasets, yet our images are scarse. This is one of the reasons we use transfer learning later on."
   ]
  },
  {
   "cell_type": "code",
   "execution_count": 7,
   "metadata": {
    "tags": []
   },
   "outputs": [],
   "source": [
    "from sklearn.model_selection import train_test_split\n",
    "X_train, X_test, y_train, y_test = train_test_split(images, dummy_y, test_size=0.3, random_state=42)"
   ]
  },
  {
   "cell_type": "markdown",
   "metadata": {},
   "source": [
    "### Preprocess datasets for Xception model and prepare batches\n",
    "\n",
    "Here we do the following:\n",
    "\n",
    "- Cast the split datasets to tensorflow Datasets to perform the rest of the preprocessing\n",
    "- Shuffle the datasets\n",
    "- Call the custom preprocess function to iteratively preprocess each data entry using the .map method of the Dataset class\n",
    "- We finally prepare batches in sizes of 32 and prefetch it to increase speed"
   ]
  },
  {
   "cell_type": "code",
   "execution_count": 8,
   "metadata": {
    "tags": []
   },
   "outputs": [],
   "source": [
    "train_dataset = tf.data.Dataset.from_tensor_slices((X_train,y_train))"
   ]
  },
  {
   "cell_type": "code",
   "execution_count": 9,
   "metadata": {
    "tags": []
   },
   "outputs": [],
   "source": [
    "test_dataset = tf.data.Dataset.from_tensor_slices((X_test,y_test))"
   ]
  },
  {
   "cell_type": "code",
   "execution_count": 10,
   "metadata": {
    "tags": []
   },
   "outputs": [],
   "source": [
    "def preprocess(image,label):\n",
    "    image = tf.cast(image, tf.float32) / 255.0\n",
    "    final_image = tf.keras.applications.xception.preprocess_input(image)\n",
    "    return final_image,label\n",
    "\n",
    "batch_size = 32\n",
    "train_dataset = train_dataset.shuffle(len(train_dataset)*2)\n",
    "train_dataset = train_dataset.map(preprocess).batch(batch_size).prefetch(1)\n",
    "\n",
    "test_dataset = test_dataset.shuffle(len(test_dataset)*2)\n",
    "test_dataset = test_dataset.map(preprocess).batch(batch_size).prefetch(1)"
   ]
  },
  {
   "cell_type": "markdown",
   "metadata": {
    "tags": []
   },
   "source": [
    "## BUILDING THE MODEL"
   ]
  },
  {
   "cell_type": "markdown",
   "metadata": {},
   "source": [
    "Use Transfer Learning to build on top of an Xception model architecture for image classification."
   ]
  },
  {
   "cell_type": "markdown",
   "metadata": {},
   "source": [
    "### Use Xception architecture and weights"
   ]
  },
  {
   "cell_type": "markdown",
   "metadata": {
    "tags": []
   },
   "source": [
    "- We use Xception model architecture without its top layer.\n",
    "- Add layers on top of the Xception model to form a classifier. The number of neurons must match the number of class labels. Use softmax since this is categorical classification \n",
    "- The Xception layers must be frozen so that the weights do not change in the first training run"
   ]
  },
  {
   "cell_type": "code",
   "execution_count": 11,
   "metadata": {
    "collapsed": true,
    "jupyter": {
     "outputs_hidden": true,
     "source_hidden": true
    },
    "tags": []
   },
   "outputs": [
    {
     "name": "stdout",
     "output_type": "stream",
     "text": [
      "Model: \"model\"\n",
      "__________________________________________________________________________________________________\n",
      "Layer (type)                    Output Shape         Param #     Connected to                     \n",
      "==================================================================================================\n",
      "input_1 (InputLayer)            [(None, 160, 160, 3) 0                                            \n",
      "__________________________________________________________________________________________________\n",
      "block1_conv1 (Conv2D)           (None, 79, 79, 32)   864         input_1[0][0]                    \n",
      "__________________________________________________________________________________________________\n",
      "block1_conv1_bn (BatchNormaliza (None, 79, 79, 32)   128         block1_conv1[0][0]               \n",
      "__________________________________________________________________________________________________\n",
      "block1_conv1_act (Activation)   (None, 79, 79, 32)   0           block1_conv1_bn[0][0]            \n",
      "__________________________________________________________________________________________________\n",
      "block1_conv2 (Conv2D)           (None, 77, 77, 64)   18432       block1_conv1_act[0][0]           \n",
      "__________________________________________________________________________________________________\n",
      "block1_conv2_bn (BatchNormaliza (None, 77, 77, 64)   256         block1_conv2[0][0]               \n",
      "__________________________________________________________________________________________________\n",
      "block1_conv2_act (Activation)   (None, 77, 77, 64)   0           block1_conv2_bn[0][0]            \n",
      "__________________________________________________________________________________________________\n",
      "block2_sepconv1 (SeparableConv2 (None, 77, 77, 128)  8768        block1_conv2_act[0][0]           \n",
      "__________________________________________________________________________________________________\n",
      "block2_sepconv1_bn (BatchNormal (None, 77, 77, 128)  512         block2_sepconv1[0][0]            \n",
      "__________________________________________________________________________________________________\n",
      "block2_sepconv2_act (Activation (None, 77, 77, 128)  0           block2_sepconv1_bn[0][0]         \n",
      "__________________________________________________________________________________________________\n",
      "block2_sepconv2 (SeparableConv2 (None, 77, 77, 128)  17536       block2_sepconv2_act[0][0]        \n",
      "__________________________________________________________________________________________________\n",
      "block2_sepconv2_bn (BatchNormal (None, 77, 77, 128)  512         block2_sepconv2[0][0]            \n",
      "__________________________________________________________________________________________________\n",
      "conv2d (Conv2D)                 (None, 39, 39, 128)  8192        block1_conv2_act[0][0]           \n",
      "__________________________________________________________________________________________________\n",
      "block2_pool (MaxPooling2D)      (None, 39, 39, 128)  0           block2_sepconv2_bn[0][0]         \n",
      "__________________________________________________________________________________________________\n",
      "batch_normalization (BatchNorma (None, 39, 39, 128)  512         conv2d[0][0]                     \n",
      "__________________________________________________________________________________________________\n",
      "add (Add)                       (None, 39, 39, 128)  0           block2_pool[0][0]                \n",
      "                                                                 batch_normalization[0][0]        \n",
      "__________________________________________________________________________________________________\n",
      "block3_sepconv1_act (Activation (None, 39, 39, 128)  0           add[0][0]                        \n",
      "__________________________________________________________________________________________________\n",
      "block3_sepconv1 (SeparableConv2 (None, 39, 39, 256)  33920       block3_sepconv1_act[0][0]        \n",
      "__________________________________________________________________________________________________\n",
      "block3_sepconv1_bn (BatchNormal (None, 39, 39, 256)  1024        block3_sepconv1[0][0]            \n",
      "__________________________________________________________________________________________________\n",
      "block3_sepconv2_act (Activation (None, 39, 39, 256)  0           block3_sepconv1_bn[0][0]         \n",
      "__________________________________________________________________________________________________\n",
      "block3_sepconv2 (SeparableConv2 (None, 39, 39, 256)  67840       block3_sepconv2_act[0][0]        \n",
      "__________________________________________________________________________________________________\n",
      "block3_sepconv2_bn (BatchNormal (None, 39, 39, 256)  1024        block3_sepconv2[0][0]            \n",
      "__________________________________________________________________________________________________\n",
      "conv2d_1 (Conv2D)               (None, 20, 20, 256)  32768       add[0][0]                        \n",
      "__________________________________________________________________________________________________\n",
      "block3_pool (MaxPooling2D)      (None, 20, 20, 256)  0           block3_sepconv2_bn[0][0]         \n",
      "__________________________________________________________________________________________________\n",
      "batch_normalization_1 (BatchNor (None, 20, 20, 256)  1024        conv2d_1[0][0]                   \n",
      "__________________________________________________________________________________________________\n",
      "add_1 (Add)                     (None, 20, 20, 256)  0           block3_pool[0][0]                \n",
      "                                                                 batch_normalization_1[0][0]      \n",
      "__________________________________________________________________________________________________\n",
      "block4_sepconv1_act (Activation (None, 20, 20, 256)  0           add_1[0][0]                      \n",
      "__________________________________________________________________________________________________\n",
      "block4_sepconv1 (SeparableConv2 (None, 20, 20, 728)  188672      block4_sepconv1_act[0][0]        \n",
      "__________________________________________________________________________________________________\n",
      "block4_sepconv1_bn (BatchNormal (None, 20, 20, 728)  2912        block4_sepconv1[0][0]            \n",
      "__________________________________________________________________________________________________\n",
      "block4_sepconv2_act (Activation (None, 20, 20, 728)  0           block4_sepconv1_bn[0][0]         \n",
      "__________________________________________________________________________________________________\n",
      "block4_sepconv2 (SeparableConv2 (None, 20, 20, 728)  536536      block4_sepconv2_act[0][0]        \n",
      "__________________________________________________________________________________________________\n",
      "block4_sepconv2_bn (BatchNormal (None, 20, 20, 728)  2912        block4_sepconv2[0][0]            \n",
      "__________________________________________________________________________________________________\n",
      "conv2d_2 (Conv2D)               (None, 10, 10, 728)  186368      add_1[0][0]                      \n",
      "__________________________________________________________________________________________________\n",
      "block4_pool (MaxPooling2D)      (None, 10, 10, 728)  0           block4_sepconv2_bn[0][0]         \n",
      "__________________________________________________________________________________________________\n",
      "batch_normalization_2 (BatchNor (None, 10, 10, 728)  2912        conv2d_2[0][0]                   \n",
      "__________________________________________________________________________________________________\n",
      "add_2 (Add)                     (None, 10, 10, 728)  0           block4_pool[0][0]                \n",
      "                                                                 batch_normalization_2[0][0]      \n",
      "__________________________________________________________________________________________________\n",
      "block5_sepconv1_act (Activation (None, 10, 10, 728)  0           add_2[0][0]                      \n",
      "__________________________________________________________________________________________________\n",
      "block5_sepconv1 (SeparableConv2 (None, 10, 10, 728)  536536      block5_sepconv1_act[0][0]        \n",
      "__________________________________________________________________________________________________\n",
      "block5_sepconv1_bn (BatchNormal (None, 10, 10, 728)  2912        block5_sepconv1[0][0]            \n",
      "__________________________________________________________________________________________________\n",
      "block5_sepconv2_act (Activation (None, 10, 10, 728)  0           block5_sepconv1_bn[0][0]         \n",
      "__________________________________________________________________________________________________\n",
      "block5_sepconv2 (SeparableConv2 (None, 10, 10, 728)  536536      block5_sepconv2_act[0][0]        \n",
      "__________________________________________________________________________________________________\n",
      "block5_sepconv2_bn (BatchNormal (None, 10, 10, 728)  2912        block5_sepconv2[0][0]            \n",
      "__________________________________________________________________________________________________\n",
      "block5_sepconv3_act (Activation (None, 10, 10, 728)  0           block5_sepconv2_bn[0][0]         \n",
      "__________________________________________________________________________________________________\n",
      "block5_sepconv3 (SeparableConv2 (None, 10, 10, 728)  536536      block5_sepconv3_act[0][0]        \n",
      "__________________________________________________________________________________________________\n",
      "block5_sepconv3_bn (BatchNormal (None, 10, 10, 728)  2912        block5_sepconv3[0][0]            \n",
      "__________________________________________________________________________________________________\n",
      "add_3 (Add)                     (None, 10, 10, 728)  0           block5_sepconv3_bn[0][0]         \n",
      "                                                                 add_2[0][0]                      \n",
      "__________________________________________________________________________________________________\n",
      "block6_sepconv1_act (Activation (None, 10, 10, 728)  0           add_3[0][0]                      \n",
      "__________________________________________________________________________________________________\n",
      "block6_sepconv1 (SeparableConv2 (None, 10, 10, 728)  536536      block6_sepconv1_act[0][0]        \n",
      "__________________________________________________________________________________________________\n",
      "block6_sepconv1_bn (BatchNormal (None, 10, 10, 728)  2912        block6_sepconv1[0][0]            \n",
      "__________________________________________________________________________________________________\n",
      "block6_sepconv2_act (Activation (None, 10, 10, 728)  0           block6_sepconv1_bn[0][0]         \n",
      "__________________________________________________________________________________________________\n",
      "block6_sepconv2 (SeparableConv2 (None, 10, 10, 728)  536536      block6_sepconv2_act[0][0]        \n",
      "__________________________________________________________________________________________________\n",
      "block6_sepconv2_bn (BatchNormal (None, 10, 10, 728)  2912        block6_sepconv2[0][0]            \n",
      "__________________________________________________________________________________________________\n",
      "block6_sepconv3_act (Activation (None, 10, 10, 728)  0           block6_sepconv2_bn[0][0]         \n",
      "__________________________________________________________________________________________________\n",
      "block6_sepconv3 (SeparableConv2 (None, 10, 10, 728)  536536      block6_sepconv3_act[0][0]        \n",
      "__________________________________________________________________________________________________\n",
      "block6_sepconv3_bn (BatchNormal (None, 10, 10, 728)  2912        block6_sepconv3[0][0]            \n",
      "__________________________________________________________________________________________________\n",
      "add_4 (Add)                     (None, 10, 10, 728)  0           block6_sepconv3_bn[0][0]         \n",
      "                                                                 add_3[0][0]                      \n",
      "__________________________________________________________________________________________________\n",
      "block7_sepconv1_act (Activation (None, 10, 10, 728)  0           add_4[0][0]                      \n",
      "__________________________________________________________________________________________________\n",
      "block7_sepconv1 (SeparableConv2 (None, 10, 10, 728)  536536      block7_sepconv1_act[0][0]        \n",
      "__________________________________________________________________________________________________\n",
      "block7_sepconv1_bn (BatchNormal (None, 10, 10, 728)  2912        block7_sepconv1[0][0]            \n",
      "__________________________________________________________________________________________________\n",
      "block7_sepconv2_act (Activation (None, 10, 10, 728)  0           block7_sepconv1_bn[0][0]         \n",
      "__________________________________________________________________________________________________\n",
      "block7_sepconv2 (SeparableConv2 (None, 10, 10, 728)  536536      block7_sepconv2_act[0][0]        \n",
      "__________________________________________________________________________________________________\n",
      "block7_sepconv2_bn (BatchNormal (None, 10, 10, 728)  2912        block7_sepconv2[0][0]            \n",
      "__________________________________________________________________________________________________\n",
      "block7_sepconv3_act (Activation (None, 10, 10, 728)  0           block7_sepconv2_bn[0][0]         \n",
      "__________________________________________________________________________________________________\n",
      "block7_sepconv3 (SeparableConv2 (None, 10, 10, 728)  536536      block7_sepconv3_act[0][0]        \n",
      "__________________________________________________________________________________________________\n",
      "block7_sepconv3_bn (BatchNormal (None, 10, 10, 728)  2912        block7_sepconv3[0][0]            \n",
      "__________________________________________________________________________________________________\n",
      "add_5 (Add)                     (None, 10, 10, 728)  0           block7_sepconv3_bn[0][0]         \n",
      "                                                                 add_4[0][0]                      \n",
      "__________________________________________________________________________________________________\n",
      "block8_sepconv1_act (Activation (None, 10, 10, 728)  0           add_5[0][0]                      \n",
      "__________________________________________________________________________________________________\n",
      "block8_sepconv1 (SeparableConv2 (None, 10, 10, 728)  536536      block8_sepconv1_act[0][0]        \n",
      "__________________________________________________________________________________________________\n",
      "block8_sepconv1_bn (BatchNormal (None, 10, 10, 728)  2912        block8_sepconv1[0][0]            \n",
      "__________________________________________________________________________________________________\n",
      "block8_sepconv2_act (Activation (None, 10, 10, 728)  0           block8_sepconv1_bn[0][0]         \n",
      "__________________________________________________________________________________________________\n",
      "block8_sepconv2 (SeparableConv2 (None, 10, 10, 728)  536536      block8_sepconv2_act[0][0]        \n",
      "__________________________________________________________________________________________________\n",
      "block8_sepconv2_bn (BatchNormal (None, 10, 10, 728)  2912        block8_sepconv2[0][0]            \n",
      "__________________________________________________________________________________________________\n",
      "block8_sepconv3_act (Activation (None, 10, 10, 728)  0           block8_sepconv2_bn[0][0]         \n",
      "__________________________________________________________________________________________________\n",
      "block8_sepconv3 (SeparableConv2 (None, 10, 10, 728)  536536      block8_sepconv3_act[0][0]        \n",
      "__________________________________________________________________________________________________\n",
      "block8_sepconv3_bn (BatchNormal (None, 10, 10, 728)  2912        block8_sepconv3[0][0]            \n",
      "__________________________________________________________________________________________________\n",
      "add_6 (Add)                     (None, 10, 10, 728)  0           block8_sepconv3_bn[0][0]         \n",
      "                                                                 add_5[0][0]                      \n",
      "__________________________________________________________________________________________________\n",
      "block9_sepconv1_act (Activation (None, 10, 10, 728)  0           add_6[0][0]                      \n",
      "__________________________________________________________________________________________________\n",
      "block9_sepconv1 (SeparableConv2 (None, 10, 10, 728)  536536      block9_sepconv1_act[0][0]        \n",
      "__________________________________________________________________________________________________\n",
      "block9_sepconv1_bn (BatchNormal (None, 10, 10, 728)  2912        block9_sepconv1[0][0]            \n",
      "__________________________________________________________________________________________________\n",
      "block9_sepconv2_act (Activation (None, 10, 10, 728)  0           block9_sepconv1_bn[0][0]         \n",
      "__________________________________________________________________________________________________\n",
      "block9_sepconv2 (SeparableConv2 (None, 10, 10, 728)  536536      block9_sepconv2_act[0][0]        \n",
      "__________________________________________________________________________________________________\n",
      "block9_sepconv2_bn (BatchNormal (None, 10, 10, 728)  2912        block9_sepconv2[0][0]            \n",
      "__________________________________________________________________________________________________\n",
      "block9_sepconv3_act (Activation (None, 10, 10, 728)  0           block9_sepconv2_bn[0][0]         \n",
      "__________________________________________________________________________________________________\n",
      "block9_sepconv3 (SeparableConv2 (None, 10, 10, 728)  536536      block9_sepconv3_act[0][0]        \n",
      "__________________________________________________________________________________________________\n",
      "block9_sepconv3_bn (BatchNormal (None, 10, 10, 728)  2912        block9_sepconv3[0][0]            \n",
      "__________________________________________________________________________________________________\n",
      "add_7 (Add)                     (None, 10, 10, 728)  0           block9_sepconv3_bn[0][0]         \n",
      "                                                                 add_6[0][0]                      \n",
      "__________________________________________________________________________________________________\n",
      "block10_sepconv1_act (Activatio (None, 10, 10, 728)  0           add_7[0][0]                      \n",
      "__________________________________________________________________________________________________\n",
      "block10_sepconv1 (SeparableConv (None, 10, 10, 728)  536536      block10_sepconv1_act[0][0]       \n",
      "__________________________________________________________________________________________________\n",
      "block10_sepconv1_bn (BatchNorma (None, 10, 10, 728)  2912        block10_sepconv1[0][0]           \n",
      "__________________________________________________________________________________________________\n",
      "block10_sepconv2_act (Activatio (None, 10, 10, 728)  0           block10_sepconv1_bn[0][0]        \n",
      "__________________________________________________________________________________________________\n",
      "block10_sepconv2 (SeparableConv (None, 10, 10, 728)  536536      block10_sepconv2_act[0][0]       \n",
      "__________________________________________________________________________________________________\n",
      "block10_sepconv2_bn (BatchNorma (None, 10, 10, 728)  2912        block10_sepconv2[0][0]           \n",
      "__________________________________________________________________________________________________\n",
      "block10_sepconv3_act (Activatio (None, 10, 10, 728)  0           block10_sepconv2_bn[0][0]        \n",
      "__________________________________________________________________________________________________\n",
      "block10_sepconv3 (SeparableConv (None, 10, 10, 728)  536536      block10_sepconv3_act[0][0]       \n",
      "__________________________________________________________________________________________________\n",
      "block10_sepconv3_bn (BatchNorma (None, 10, 10, 728)  2912        block10_sepconv3[0][0]           \n",
      "__________________________________________________________________________________________________\n",
      "add_8 (Add)                     (None, 10, 10, 728)  0           block10_sepconv3_bn[0][0]        \n",
      "                                                                 add_7[0][0]                      \n",
      "__________________________________________________________________________________________________\n",
      "block11_sepconv1_act (Activatio (None, 10, 10, 728)  0           add_8[0][0]                      \n",
      "__________________________________________________________________________________________________\n",
      "block11_sepconv1 (SeparableConv (None, 10, 10, 728)  536536      block11_sepconv1_act[0][0]       \n",
      "__________________________________________________________________________________________________\n",
      "block11_sepconv1_bn (BatchNorma (None, 10, 10, 728)  2912        block11_sepconv1[0][0]           \n",
      "__________________________________________________________________________________________________\n",
      "block11_sepconv2_act (Activatio (None, 10, 10, 728)  0           block11_sepconv1_bn[0][0]        \n",
      "__________________________________________________________________________________________________\n",
      "block11_sepconv2 (SeparableConv (None, 10, 10, 728)  536536      block11_sepconv2_act[0][0]       \n",
      "__________________________________________________________________________________________________\n",
      "block11_sepconv2_bn (BatchNorma (None, 10, 10, 728)  2912        block11_sepconv2[0][0]           \n",
      "__________________________________________________________________________________________________\n",
      "block11_sepconv3_act (Activatio (None, 10, 10, 728)  0           block11_sepconv2_bn[0][0]        \n",
      "__________________________________________________________________________________________________\n",
      "block11_sepconv3 (SeparableConv (None, 10, 10, 728)  536536      block11_sepconv3_act[0][0]       \n",
      "__________________________________________________________________________________________________\n",
      "block11_sepconv3_bn (BatchNorma (None, 10, 10, 728)  2912        block11_sepconv3[0][0]           \n",
      "__________________________________________________________________________________________________\n",
      "add_9 (Add)                     (None, 10, 10, 728)  0           block11_sepconv3_bn[0][0]        \n",
      "                                                                 add_8[0][0]                      \n",
      "__________________________________________________________________________________________________\n",
      "block12_sepconv1_act (Activatio (None, 10, 10, 728)  0           add_9[0][0]                      \n",
      "__________________________________________________________________________________________________\n",
      "block12_sepconv1 (SeparableConv (None, 10, 10, 728)  536536      block12_sepconv1_act[0][0]       \n",
      "__________________________________________________________________________________________________\n",
      "block12_sepconv1_bn (BatchNorma (None, 10, 10, 728)  2912        block12_sepconv1[0][0]           \n",
      "__________________________________________________________________________________________________\n",
      "block12_sepconv2_act (Activatio (None, 10, 10, 728)  0           block12_sepconv1_bn[0][0]        \n",
      "__________________________________________________________________________________________________\n",
      "block12_sepconv2 (SeparableConv (None, 10, 10, 728)  536536      block12_sepconv2_act[0][0]       \n",
      "__________________________________________________________________________________________________\n",
      "block12_sepconv2_bn (BatchNorma (None, 10, 10, 728)  2912        block12_sepconv2[0][0]           \n",
      "__________________________________________________________________________________________________\n",
      "block12_sepconv3_act (Activatio (None, 10, 10, 728)  0           block12_sepconv2_bn[0][0]        \n",
      "__________________________________________________________________________________________________\n",
      "block12_sepconv3 (SeparableConv (None, 10, 10, 728)  536536      block12_sepconv3_act[0][0]       \n",
      "__________________________________________________________________________________________________\n",
      "block12_sepconv3_bn (BatchNorma (None, 10, 10, 728)  2912        block12_sepconv3[0][0]           \n",
      "__________________________________________________________________________________________________\n",
      "add_10 (Add)                    (None, 10, 10, 728)  0           block12_sepconv3_bn[0][0]        \n",
      "                                                                 add_9[0][0]                      \n",
      "__________________________________________________________________________________________________\n",
      "block13_sepconv1_act (Activatio (None, 10, 10, 728)  0           add_10[0][0]                     \n",
      "__________________________________________________________________________________________________\n",
      "block13_sepconv1 (SeparableConv (None, 10, 10, 728)  536536      block13_sepconv1_act[0][0]       \n",
      "__________________________________________________________________________________________________\n",
      "block13_sepconv1_bn (BatchNorma (None, 10, 10, 728)  2912        block13_sepconv1[0][0]           \n",
      "__________________________________________________________________________________________________\n",
      "block13_sepconv2_act (Activatio (None, 10, 10, 728)  0           block13_sepconv1_bn[0][0]        \n",
      "__________________________________________________________________________________________________\n",
      "block13_sepconv2 (SeparableConv (None, 10, 10, 1024) 752024      block13_sepconv2_act[0][0]       \n",
      "__________________________________________________________________________________________________\n",
      "block13_sepconv2_bn (BatchNorma (None, 10, 10, 1024) 4096        block13_sepconv2[0][0]           \n",
      "__________________________________________________________________________________________________\n",
      "conv2d_3 (Conv2D)               (None, 5, 5, 1024)   745472      add_10[0][0]                     \n",
      "__________________________________________________________________________________________________\n",
      "block13_pool (MaxPooling2D)     (None, 5, 5, 1024)   0           block13_sepconv2_bn[0][0]        \n",
      "__________________________________________________________________________________________________\n",
      "batch_normalization_3 (BatchNor (None, 5, 5, 1024)   4096        conv2d_3[0][0]                   \n",
      "__________________________________________________________________________________________________\n",
      "add_11 (Add)                    (None, 5, 5, 1024)   0           block13_pool[0][0]               \n",
      "                                                                 batch_normalization_3[0][0]      \n",
      "__________________________________________________________________________________________________\n",
      "block14_sepconv1 (SeparableConv (None, 5, 5, 1536)   1582080     add_11[0][0]                     \n",
      "__________________________________________________________________________________________________\n",
      "block14_sepconv1_bn (BatchNorma (None, 5, 5, 1536)   6144        block14_sepconv1[0][0]           \n",
      "__________________________________________________________________________________________________\n",
      "block14_sepconv1_act (Activatio (None, 5, 5, 1536)   0           block14_sepconv1_bn[0][0]        \n",
      "__________________________________________________________________________________________________\n",
      "block14_sepconv2 (SeparableConv (None, 5, 5, 2048)   3159552     block14_sepconv1_act[0][0]       \n",
      "__________________________________________________________________________________________________\n",
      "block14_sepconv2_bn (BatchNorma (None, 5, 5, 2048)   8192        block14_sepconv2[0][0]           \n",
      "__________________________________________________________________________________________________\n",
      "block14_sepconv2_act (Activatio (None, 5, 5, 2048)   0           block14_sepconv2_bn[0][0]        \n",
      "__________________________________________________________________________________________________\n",
      "global_average_pooling2d (Globa (None, 2048)         0           block14_sepconv2_act[0][0]       \n",
      "__________________________________________________________________________________________________\n",
      "dense (Dense)                   (None, 6)            12294       global_average_pooling2d[0][0]   \n",
      "==================================================================================================\n",
      "Total params: 20,873,774\n",
      "Trainable params: 12,294\n",
      "Non-trainable params: 20,861,480\n",
      "__________________________________________________________________________________________________\n"
     ]
    }
   ],
   "source": [
    "from tensorflow import keras\n",
    "from tensorflow.keras import layers\n",
    "\n",
    "n_classes = len(list(samples.keys()))\n",
    "\n",
    "base_model = keras.applications.Xception(\n",
    "    weights=\"imagenet\",  # Load weights pre-trained on ImageNet.\n",
    "    input_shape=(160, 160, 3),\n",
    "    include_top=False\n",
    ")  # Do not include the ImageNet classifier at the top.\n",
    "\n",
    "x = keras.layers.GlobalAveragePooling2D()(base_model.output)\n",
    "# x = keras.layers.Dropout(0.2)(x)  # Regularize with dropout\n",
    "output = keras.layers.Dense(n_classes, activation='softmax')(x)\n",
    "model = keras.Model(base_model.input, output)\n",
    "\n",
    "# Freeze the base_model\n",
    "for layer in base_model.layers:\n",
    "    layer.trainable = False\n",
    "\n",
    "\n",
    "model.summary()"
   ]
  },
  {
   "cell_type": "code",
   "execution_count": null,
   "metadata": {
    "jupyter": {
     "source_hidden": true
    },
    "tags": []
   },
   "outputs": [],
   "source": [
    "from tensorflow.keras.optimizers import Adam, SGD\n",
    "from tensorflow.keras.callbacks import ModelCheckpoint, ReduceLROnPlateau, EarlyStopping, Callback\n",
    "import math\n",
    "\n",
    "reduce_lr = ReduceLROnPlateau(monitor='val_loss', factor=0.25, verbose=1, patience=4, min_lr=0.00001)\n",
    "\n",
    "# early_stopping = tf.keras.callbacks.EarlyStopping(monitor='val_loss', patience=6, restore_best_weights=True)\n",
    "\n",
    "# initial_learning_rate = 0.2\n",
    "# lr_schedule = tf.keras.optimizers.schedules.ExponentialDecay(\n",
    "#     initial_learning_rate,\n",
    "#     decay_steps=100000,\n",
    "#     decay_rate=0.9,\n",
    "#     staircase=True)\n",
    "\n",
    "\n",
    "# optimizer = SGD(learning_rate=0.2, momentum =0.9, decay=0.01)\n",
    "# optimizer = SGD(learning_rate=0.02)\n",
    "optimizer = Adam(learning_rate=0.2)\n",
    "\n",
    "# recompile\n",
    "model.compile(\n",
    "    optimizer=optimizer,\n",
    "    loss='categorical_crossentropy',\n",
    "    metrics=['accuracy'])\n",
    "\n",
    "# train\n",
    "history = model.fit(train_dataset,\n",
    "                    batch_size=batch_size,\n",
    "                    epochs=100,\n",
    "                    validation_data=test_dataset,\n",
    "                    verbose=1,\n",
    "                    callbacks=[\n",
    "                                reduce_lr,\n",
    "                                ModelCheckpoint(filepath='model_ckp/model_at_ep{epoch}.h5'),\n",
    "                                    ]\n",
    ")\n",
    "\n",
    "\n",
    "model.save('model_ckp/model_final.h5')"
   ]
  },
  {
   "cell_type": "markdown",
   "metadata": {},
   "source": [
    "### Fine Tuning"
   ]
  },
  {
   "cell_type": "code",
   "execution_count": null,
   "metadata": {
    "jupyter": {
     "source_hidden": true
    },
    "partialCollapse": true,
    "tags": []
   },
   "outputs": [],
   "source": [
    "# unfreeze and retrain\n",
    "for layer in base_model.layers:\n",
    "    layer.trainable = True\n",
    "    \n",
    "\n",
    "model.load_weights('model_bkp/model_at_ep100.h5')\n",
    "\n",
    "optimizer = Adam(1e-5)\n",
    "\n",
    "# recompile\n",
    "model.compile(\n",
    "    optimizer=optimizer,\n",
    "    loss='categorical_crossentropy',\n",
    "    metrics=['accuracy'])\n",
    "\n",
    "# train\n",
    "history = model.fit(train_dataset,\n",
    "                    batch_size=batch_size,\n",
    "                    epochs=150,\n",
    "                    validation_data=test_dataset,\n",
    "                    verbose=1,\n",
    "                    callbacks=[\n",
    "#                         reduce_lr,\n",
    "                                ModelCheckpoint(filepath='model_FT_ckp/model_FT_at_ep{epoch}.h5'),\n",
    "                                    ]\n",
    ")\n",
    "model.save('model_FT_ckp/model_FT_final.h5')"
   ]
  },
  {
   "cell_type": "markdown",
   "metadata": {},
   "source": [
    "### Plot metrics\n",
    "\n",
    "*Can be found in the Thesis document"
   ]
  },
  {
   "cell_type": "code",
   "execution_count": null,
   "metadata": {
    "jupyter": {
     "source_hidden": true
    },
    "tags": []
   },
   "outputs": [],
   "source": [
    "%matplotlib inline\n",
    "acc = history.history['accuracy']\n",
    "val_acc = history.history['val_accuracy']\n",
    "\n",
    "loss = history.history['loss']\n",
    "val_loss = history.history['val_loss']\n",
    "\n",
    "plt.figure(figsize=(8, 8))\n",
    "plt.subplot(2, 1, 1)\n",
    "plt.plot(acc, label='Training Accuracy')\n",
    "plt.plot(val_acc, label='Validation Accuracy')\n",
    "plt.legend(loc='lower right')\n",
    "plt.ylabel('Accuracy')\n",
    "plt.ylim([min(plt.ylim()),1])\n",
    "plt.title('Training and Validation Accuracy')\n",
    "\n",
    "plt.subplot(2, 1, 2)\n",
    "plt.plot(loss, label='Training Loss')\n",
    "plt.plot(val_loss, label='Validation Loss')\n",
    "plt.legend(loc='upper right')\n",
    "plt.ylabel('Cross Entropy')\n",
    "plt.ylim([0,1.0])\n",
    "plt.title('Training and Validation Loss')\n",
    "plt.xlabel('epoch')\n",
    "\n",
    "\n",
    "plt.savefig('model_bkp/loss_acc_plot.png', dpi=100)\n",
    "plt.show()"
   ]
  },
  {
   "cell_type": "markdown",
   "metadata": {},
   "source": [
    "## EVALUATE THE MODEL"
   ]
  },
  {
   "cell_type": "markdown",
   "metadata": {},
   "source": [
    "First Load the weights of the model"
   ]
  },
  {
   "cell_type": "code",
   "execution_count": 12,
   "metadata": {
    "jupyter": {
     "source_hidden": true
    },
    "tags": []
   },
   "outputs": [],
   "source": [
    "model.load_weights('model_bkp/model_FT_final.h5')"
   ]
  },
  {
   "cell_type": "markdown",
   "metadata": {},
   "source": [
    "Load created fuction for predictions into memory"
   ]
  },
  {
   "cell_type": "code",
   "execution_count": 13,
   "metadata": {
    "jupyter": {
     "source_hidden": true
    },
    "tags": []
   },
   "outputs": [],
   "source": [
    "# code inspired by keras_vvgface2.utils.decode_predictions\n",
    "def decode_predictions(preds, top=6):\n",
    "    results = []\n",
    "    LABELS = encoder.classes_\n",
    "    for pred in preds:\n",
    "        top_indices = pred.argsort()[-top:][::-1]\n",
    "        result = [[LABELS[i], pred[i]] for i in top_indices]\n",
    "        result.sort(key=lambda x: x[1], reverse=True)\n",
    "        results.append(result)\n",
    "    return results\n",
    "\n",
    "\n",
    "def show_predictions(predictions):\n",
    "    print('Raw prediction:\\n',predictions,'\\n')\n",
    "    for result in predictions:\n",
    "        percentage = result[1]*100\n",
    "        iclass = result[0]\n",
    "        print(\"{}: {:.4f}%\".format(iclass,percentage))\n",
    "        "
   ]
  },
  {
   "cell_type": "markdown",
   "metadata": {},
   "source": [
    "### Evaluate single predictions"
   ]
  },
  {
   "cell_type": "code",
   "execution_count": 22,
   "metadata": {
    "collapsed": true,
    "jupyter": {
     "outputs_hidden": true
    },
    "tags": []
   },
   "outputs": [
    {
     "data": {
      "text/plain": [
       "<matplotlib.image.AxesImage at 0x28bd68bc2b0>"
      ]
     },
     "execution_count": 22,
     "metadata": {},
     "output_type": "execute_result"
    },
    {
     "data": {
      "image/png": "[encoded data removed]",
      "text/plain": [
       "<Figure size 432x288 with 1 Axes>"
      ]
     },
     "metadata": {
      "needs_background": "light"
     },
     "output_type": "display_data"
    }
   ],
   "source": [
    "%matplotlib inline\n",
    "# test_path = '0002_01.jpg'\n",
    "# test_path = '0011_01.jpg'\n",
    "# test_path = '0162_01.jpg'\n",
    "test_path = '0003_01.jpg'\n",
    "\n",
    "# read the image\n",
    "test_img = Image.open(test_path)\n",
    "#show image\n",
    "plt.imshow(test_img)"
   ]
  },
  {
   "cell_type": "code",
   "execution_count": 24,
   "metadata": {
    "collapsed": true,
    "jupyter": {
     "outputs_hidden": true
    },
    "tags": []
   },
   "outputs": [
    {
     "name": "stdout",
     "output_type": "stream",
     "text": [
      "Raw Image size: (160, 160, 3)\n",
      "Extracted face image size: (160, 160, 3)\n"
     ]
    },
    {
     "data": {
      "image/png": "[encoded data removed]",
      "text/plain": [
       "<Figure size 432x288 with 1 Axes>"
      ]
     },
     "metadata": {
      "needs_background": "light"
     },
     "output_type": "display_data"
    }
   ],
   "source": [
    "print('Raw Image size:',np.array(test_img).shape)\n",
    "test_img = extract_faces_from_img(test_path)\n",
    "\n",
    "plt.imshow(test_img)\n",
    "print('Extracted face image size:',test_img.shape)"
   ]
  },
  {
   "cell_type": "code",
   "execution_count": 25,
   "metadata": {
    "tags": []
   },
   "outputs": [
    {
     "data": {
      "text/plain": [
       "(1, 160, 160, 3)"
      ]
     },
     "execution_count": 25,
     "metadata": {},
     "output_type": "execute_result"
    }
   ],
   "source": [
    "lbl = ''\n",
    "img, lbl = preprocess(test_img,lbl)\n",
    "img = np.expand_dims(img, axis=0)\n",
    "img.shape"
   ]
  },
  {
   "cell_type": "code",
   "execution_count": 42,
   "metadata": {
    "tags": []
   },
   "outputs": [
    {
     "name": "stdout",
     "output_type": "stream",
     "text": [
      "Raw prediction:\n",
      " [['Denzel Washington', 1.0], ['Antonio Banderas', 1.0931963e-11], ['Russell Brand', 9.998914e-12], ['Ashley Olsen', 1.6354564e-12], ['David Hasselhoff', 1.2405327e-13], ['Amy Adams', 1.5462093e-15]] \n",
      "\n",
      "Denzel Washington: 100.0000%\n",
      "Antonio Banderas: 0.0000%\n",
      "Russell Brand: 0.0000%\n",
      "Ashley Olsen: 0.0000%\n",
      "David Hasselhoff: 0.0000%\n",
      "Amy Adams: 0.0000%\n"
     ]
    }
   ],
   "source": [
    "pred = model.predict(img, batch_size=None)\n",
    "    \n",
    "decoded = decode_predictions(pred)[0]\n",
    "\n",
    "show_predictions(decoded)"
   ]
  },
  {
   "cell_type": "markdown",
   "metadata": {},
   "source": [
    "### Evaluate original and stegano"
   ]
  },
  {
   "cell_type": "code",
   "execution_count": 21,
   "metadata": {},
   "outputs": [
    {
     "name": "stdout",
     "output_type": "stream",
     "text": [
      "Example for: Amy Adams\n",
      "Raw Image size: (160, 160, 3)\n",
      "Extracted face image size: (160, 160, 3)\n",
      "Raw prediction:\n",
      " [['Amy Adams', 0.999811], ['Ashley Olsen', 0.00012439217], ['David Hasselhoff', 6.2839485e-05], ['Denzel Washington', 1.6153473e-06], ['Antonio Banderas', 9.922104e-08], ['Russell Brand', 3.4814782e-08]] \n",
      "\n",
      "Amy Adams: 99.9811%\n",
      "Ashley Olsen: 0.0124%\n",
      "David Hasselhoff: 0.0063%\n",
      "Denzel Washington: 0.0002%\n",
      "Antonio Banderas: 0.0000%\n",
      "Russell Brand: 0.0000%\n"
     ]
    },
    {
     "data": {
      "image/png": "[encoded data removed]",
      "text/plain": [
       "<Figure size 432x288 with 1 Axes>"
      ]
     },
     "metadata": {
      "needs_background": "light"
     },
     "output_type": "display_data"
    }
   ],
   "source": [
    "%matplotlib inline\n",
    "import random\n",
    "LABELS = encoder.classes_\n",
    "rnd = random.randint(0,len(X_test))\n",
    "plt.imshow(X_test[rnd])\n",
    "\n",
    "print('Example for:',LABELS[np.argmax(y_test[rnd])])\n",
    "\n",
    "print('Raw Image size:', np.array(X_test[rnd]).shape)\n",
    "test_img = extract_faces_from_img(X_test[rnd],is_path=False)\n",
    "print('Extracted face image size:',np.array(test_img).shape)\n",
    "\n",
    "lbl = ''\n",
    "img, lbl = preprocess(test_img,lbl)\n",
    "img = np.expand_dims(img, axis=0)\n",
    "\n",
    "pred = model.predict(img, batch_size=None)\n",
    "decoded = decode_predictions(pred)[0]\n",
    "show_predictions(decoded)"
   ]
  },
  {
   "cell_type": "code",
   "execution_count": null,
   "metadata": {},
   "outputs": [],
   "source": []
  },
  {
   "cell_type": "markdown",
   "metadata": {
    "tags": []
   },
   "source": [
    "# Adversarial Attacks"
   ]
  },
  {
   "cell_type": "markdown",
   "metadata": {
    "tags": []
   },
   "source": [
    "## Deepfool"
   ]
  },
  {
   "cell_type": "code",
   "execution_count": null,
   "metadata": {},
   "outputs": [],
   "source": [
    "import math\n",
    "def is_probability(vector: np.ndarray) -> bool:\n",
    "    \"\"\"\n",
    "    Check if an 1D-array is a probability vector.\n",
    "    :param vector: An 1D-array.\n",
    "    :return: True if it is a probability vector.\n",
    "    \"\"\"\n",
    "    is_sum_1 = math.isclose(np.sum(vector), 1.0, rel_tol=1e-03)\n",
    "    is_smaller_1 = np.amax(vector) <= 1.0\n",
    "    is_larger_0 = np.amin(vector) >= 0.0\n",
    "\n",
    "    return is_sum_1 and is_smaller_1 and is_larger_0\n",
    "\n",
    "logitsmodel = model .layers[-2].output \n",
    "logitsextractor = keras.Model(base_model.input, logitsmodel)\n",
    "predtest = logitsextractor.predict(img, batch_size=None)"
   ]
  },
  {
   "cell_type": "code",
   "execution_count": 60,
   "metadata": {
    "tags": []
   },
   "outputs": [],
   "source": [
    "import logging\n",
    "\n",
    "class Adversarial():\n",
    "    def __init__(self, image, label , classifier, label_encoder, num_classes=6):\n",
    "        #  Initialize variables\n",
    "        self.LABELS = label_encoder.classes_\n",
    "        self.lclass =  LABELS[np.argmax(label, axis=1)]\n",
    "        self.orginal_image = image\n",
    "        self.perturbated_image = image\n",
    "        self.predicted_label = label\n",
    "    \n",
    "    def generate_adversarial_samples(self):\n",
    "\n",
    "        # Perform first prediction\n",
    "        self.predicted_label = classifier.predict(image, batch_size=None)\n",
    "        self.predicted_class = np.argmax(self.predicted_label , axis=1)\n",
    "        \n",
    "        while label == predicted_label:\n",
    "\n",
    "        logger.info(\n",
    "                \"Success rate of NewtonFool attack: %.2f%%\",\n",
    "                100 * compute_success(self.estimator, x, y, x_adv, batch_size=self.batch_size),\n",
    "            )\n",
    "        return x_adv\n",
    "        \n",
    "        "
   ]
  },
  {
   "cell_type": "code",
   "execution_count": null,
   "metadata": {
    "tags": []
   },
   "outputs": [],
   "source": [
    "class DeepFool(EvasionAttack):\n",
    "    def __init__(\n",
    "        self,\n",
    "        classifier: \"CLASSIFIER_CLASS_LOSS_GRADIENTS_TYPE\",\n",
    "        max_iter: int = 100,\n",
    "        epsilon: float = 1e-6,\n",
    "        nb_grads: int = 10,\n",
    "        batch_size: int = 1,\n",
    "        verbose: bool = True,\n",
    "    ) -> None:\n",
    "        \"\"\"\n",
    "        Create a DeepFool attack instance.\n",
    "        :param classifier: A trained classifier.\n",
    "        :param max_iter: The maximum number of iterations.\n",
    "        :param epsilon: Overshoot parameter.\n",
    "        :param nb_grads: The number of class gradients (top nb_grads w.r.t. prediction) to compute. This way only the\n",
    "                         most likely classes are considered, speeding up the computation.\n",
    "        :param batch_size: Batch size\n",
    "        :param verbose: Show progress bars.\n",
    "        \"\"\"\n",
    "        super().__init__(estimator=classifier)\n",
    "        self.max_iter = max_iter\n",
    "        self.epsilon = epsilon\n",
    "        self.nb_grads = nb_grads\n",
    "        self.batch_size = batch_size\n",
    "        self.verbose = verbose\n",
    "        self._check_params()\n",
    "        if self.estimator.clip_values is None:\n",
    "            logger.warning(\n",
    "                \"The `clip_values` attribute of the estimator is `None`, therefore this instance of DeepFool will by \"\n",
    "                \"default generate adversarial perturbations scaled for input values in the range [0, 1] but not clip \"\n",
    "                \"the adversarial example.\"\n",
    "            )\n",
    "\n",
    "    def generate(self, x: np.ndarray, y: Optional[np.ndarray] = None, **kwargs) -> np.ndarray:\n",
    "        \"\"\"\n",
    "        Generate adversarial samples and return them in an array.\n",
    "        :param x: An array with the original inputs to be attacked.\n",
    "        :param y: An array with the original labels to be predicted.\n",
    "        :return: An array holding the adversarial examples.\n",
    "        \"\"\"\n",
    "        x_adv = x.astype(ART_NUMPY_DTYPE)\n",
    "        preds = self.estimator.predict(x, batch_size=self.batch_size)\n",
    "\n",
    "\n",
    "        # Determine the class labels for which to compute the gradients\n",
    "        use_grads_subset = self.nb_grads < self.estimator.nb_classes\n",
    "        if use_grads_subset:\n",
    "            # TODO compute set of unique labels per batch\n",
    "            grad_labels = np.argsort(-preds, axis=1)[:, : self.nb_grads]\n",
    "            labels_set = np.unique(grad_labels)\n",
    "        else:\n",
    "            labels_set = np.arange(self.estimator.nb_classes)\n",
    "        sorter = np.arange(len(labels_set))\n",
    "\n",
    "        # Pick a small scalar to avoid division by 0\n",
    "        tol = 10e-8\n",
    "\n",
    "        # Compute perturbation with implicit batching\n",
    "        for batch_id in trange(\n",
    "            int(np.ceil(x_adv.shape[0] / float(self.batch_size))), desc=\"DeepFool\", disable=not self.verbose\n",
    "        ):\n",
    "            batch_index_1, batch_index_2 = batch_id * self.batch_size, (batch_id + 1) * self.batch_size\n",
    "            batch = x_adv[batch_index_1:batch_index_2].copy()\n",
    "\n",
    "            # Get predictions and gradients for batch\n",
    "            f_batch = preds[batch_index_1:batch_index_2]\n",
    "            fk_hat = np.argmax(f_batch, axis=1)\n",
    "            if use_grads_subset:\n",
    "                # Compute gradients only for top predicted classes\n",
    "                grd = np.array([self.estimator.class_gradient(batch, label=_) for _ in labels_set])\n",
    "                grd = np.squeeze(np.swapaxes(grd, 0, 2), axis=0)\n",
    "            else:\n",
    "                # Compute gradients for all classes\n",
    "                grd = self.estimator.class_gradient(batch)\n",
    "\n",
    "            # Get current predictions\n",
    "            active_indices = np.arange(len(batch))\n",
    "            current_step = 0\n",
    "            while active_indices.size > 0 and current_step < self.max_iter:\n",
    "                # Compute difference in predictions and gradients only for selected top predictions\n",
    "                labels_indices = sorter[np.searchsorted(labels_set, fk_hat, sorter=sorter)]\n",
    "                grad_diff = grd - grd[np.arange(len(grd)), labels_indices][:, None]\n",
    "                f_diff = f_batch[:, labels_set] - f_batch[np.arange(len(f_batch)), labels_indices][:, None]\n",
    "\n",
    "                # Choose coordinate and compute perturbation\n",
    "                norm = np.linalg.norm(grad_diff.reshape(len(grad_diff), len(labels_set), -1), axis=2) + tol\n",
    "                value = np.abs(f_diff) / norm\n",
    "                value[np.arange(len(value)), labels_indices] = np.inf\n",
    "                l_var = np.argmin(value, axis=1)\n",
    "                absolute1 = abs(f_diff[np.arange(len(f_diff)), l_var])\n",
    "                draddiff = grad_diff[np.arange(len(grad_diff)), l_var].reshape(len(grad_diff), -1)\n",
    "                pow1 = (\n",
    "                    pow(\n",
    "                        np.linalg.norm(draddiff, axis=1),\n",
    "                        2,\n",
    "                    )\n",
    "                    + tol\n",
    "                )\n",
    "                r_var = absolute1 / pow1\n",
    "                r_var = r_var.reshape((-1,) + (1,) * (len(x.shape) - 1))\n",
    "                r_var = r_var * grad_diff[np.arange(len(grad_diff)), l_var]\n",
    "\n",
    "                # Add perturbation and clip result\n",
    "                if self.estimator.clip_values is not None:\n",
    "                    batch[active_indices] = np.clip(\n",
    "                        batch[active_indices]\n",
    "                        + r_var[active_indices] * (self.estimator.clip_values[1] - self.estimator.clip_values[0]),\n",
    "                        self.estimator.clip_values[0],\n",
    "                        self.estimator.clip_values[1],\n",
    "                    )\n",
    "                else:\n",
    "                    batch[active_indices] += r_var[active_indices]\n",
    "\n",
    "                # Recompute prediction for new x\n",
    "                f_batch = self.estimator.predict(batch)\n",
    "                fk_i_hat = np.argmax(f_batch, axis=1)\n",
    "\n",
    "                # Recompute gradients for new x\n",
    "                if use_grads_subset:\n",
    "                    # Compute gradients only for (originally) top predicted classes\n",
    "                    grd = np.array([self.estimator.class_gradient(batch, label=_) for _ in labels_set])\n",
    "                    grd = np.squeeze(np.swapaxes(grd, 0, 2), axis=0)\n",
    "                else:\n",
    "                    # Compute gradients for all classes\n",
    "                    grd = self.estimator.class_gradient(batch)\n",
    "\n",
    "                # Stop if misclassification has been achieved\n",
    "                active_indices = np.where(fk_i_hat == fk_hat)[0]\n",
    "\n",
    "                current_step += 1\n",
    "\n",
    "            # Apply overshoot parameter\n",
    "            x_adv1 = x_adv[batch_index_1:batch_index_2]\n",
    "            x_adv2 = (1 + self.epsilon) * (batch - x_adv[batch_index_1:batch_index_2])\n",
    "            x_adv[batch_index_1:batch_index_2] = x_adv1 + x_adv2\n",
    "            if self.estimator.clip_values is not None:\n",
    "                np.clip(\n",
    "                    x_adv[batch_index_1:batch_index_2],\n",
    "                    self.estimator.clip_values[0],\n",
    "                    self.estimator.clip_values[1],\n",
    "                    out=x_adv[batch_index_1:batch_index_2],\n",
    "                )\n",
    "\n",
    "        logger.info(\n",
    "            \"Success rate of DeepFool attack: %.2f%%\",\n",
    "            100 * compute_success(self.estimator, x, y, x_adv, batch_size=self.batch_size),\n",
    "        )\n",
    "        return x_adv\n",
    "\n",
    "    def _check_params(self) -> None:\n",
    "        if not isinstance(self.max_iter, (int, np.int)) or self.max_iter <= 0:\n",
    "            raise ValueError(\"The number of iterations must be a positive integer.\")\n",
    "\n",
    "        if not isinstance(self.nb_grads, (int, np.int)) or self.nb_grads <= 0:\n",
    "            raise ValueError(\"The number of class gradients to compute must be a positive integer.\")\n",
    "\n",
    "        if self.epsilon < 0:\n",
    "            raise ValueError(\"The overshoot parameter must not be negative.\")\n",
    "\n",
    "        if self.batch_size <= 0:\n",
    "            raise ValueError(\"The batch size `batch_size` has to be positive.\")\n",
    "\n",
    "        if not isinstance(self.verbose, bool):\n",
    "            raise ValueError(\"The argument `verbose` has to be of type bool.\")"
   ]
  }
 ],
 "metadata": {
  "kernelspec": {
   "display_name": "venv",
   "language": "python",
   "name": "venv"
  },
  "language_info": {
   "codemirror_mode": {
    "name": "ipython",
    "version": 3
   },
   "file_extension": ".py",
   "mimetype": "text/x-python",
   "name": "python",
   "nbconvert_exporter": "python",
   "pygments_lexer": "ipython3",
   "version": "3.8.10"
  },
  "metadata": {
   "interpreter": {
    "hash": "5152878ccfa80b2aa2c339683f5c28e34a73d20567e7e9cb69acb74956c72351"
   }
  },
  "toc-autonumbering": false,
  "toc-showcode": false,
  "toc-showmarkdowntxt": false,
  "toc-showtags": false
 },
 "nbformat": 4,
 "nbformat_minor": 4
}
